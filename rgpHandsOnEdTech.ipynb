{
  "nbformat": 4,
  "nbformat_minor": 0,
  "metadata": {
    "colab": {
      "name": "rgpHandsOnEdTech",
      "provenance": [],
      "collapsed_sections": [
        "X43S3OJaiby0",
        "Lr9WTHyj501A",
        "wzJ-dBo4WI7W",
        "xhOjAJNjTLPZ",
        "ZV_8xvKpO2hP",
        "3D6qjuwqPg_v",
        "Eeo13K4KPlGg",
        "wEXDpfdoshxW",
        "xBJMSuuCjEuB",
        "HngkSQ4P6QSj",
        "jFb7Un4PN2BA",
        "EgD9vTqeTRT-",
        "xVyjL_2Z65Kp",
        "A20rCU5QZ4V4",
        "qOkjKR1vIAe4",
        "jv7CSjmaLEFb",
        "4gPS8DaNZfYD",
        "A0kpiJKBaA8k",
        "hs6lQyPJL1no",
        "1v3wb6bhWt5u",
        "90czoKtGYaiY",
        "MIOGa1USXzVV",
        "JICPND7KUM7y",
        "wgsfXUa9hj-f",
        "aiIlJhSocbxl",
        "PZl52R5VDwji",
        "SeJnu0HhXqzl",
        "CwlYnTFPXWh4",
        "fSAsO7ctI8iS",
        "8uhgGV2wDzVV",
        "t-sqVl8qIrV8",
        "6J6kmbIZWOcI",
        "ua7kYPe-cbPt",
        "bck6_2zb3ltN",
        "uz9UGMKb3vpf",
        "JGPcFhbX_PUL",
        "QnbjU93I_ZRc",
        "XwVwUGClGiNm",
        "3FqIxyYB_lIO",
        "EQns_9ZR1LbT",
        "EWLZbGBfn1qQ",
        "ivXivSz6dDKz",
        "Xcdw-M4IDW8Q",
        "f1VmcnZU09Ab",
        "SsHAWFtknqvb",
        "f43VLDj2tDUR",
        "LA2FqHIPuJHX",
        "lMrVZsaYwHYu",
        "xpOtGUJR0Q0Q",
        "W1uBLNhpbJrl",
        "wBz6TAHlS-na",
        "Qyu6JozcTEen",
        "Lsu-e3X2TngI",
        "PqmKk2JlTdT3",
        "ImIfY98BTW72",
        "bDJv48B3Ef0T",
        "2vJ47yzPjw3w",
        "WSmqLBS4Ev5C",
        "X8TLcTz4FHlZ",
        "vFq1QnkRkJNn",
        "yZa5614OjlY3",
        "2jkFfkqg51Z9",
        "vPasrfVLbnr6",
        "ecal_OKph_Id",
        "zRyzRTlChBYe",
        "O8GvecSRhDwW",
        "dZPPHcb7hOM4",
        "VVq487lthTio",
        "Yzaijk_1hZSl",
        "iqdtC4vshfXq",
        "9UbSQatLhlv-",
        "3uTzDWUjhq3h",
        "S8ZNF9jz94Ew",
        "S6hb7Xwo98-h",
        "ILDrUZHKiVVB",
        "UnH_PzKbtA7h",
        "VytePPNs-yrN"
      ],
      "toc_visible": true,
      "include_colab_link": true
    },
    "kernelspec": {
      "name": "python3",
      "display_name": "Python 3"
    }
  },
  "cells": [
    {
      "cell_type": "markdown",
      "metadata": {
        "id": "view-in-github",
        "colab_type": "text"
      },
      "source": [
        "<a href=\"https://colab.research.google.com/github/drpiccioni/notebooks/blob/master/rgpHandsOnEdTech.ipynb\" target=\"_parent\"><img src=\"https://colab.research.google.com/assets/colab-badge.svg\" alt=\"Open In Colab\"/></a>"
      ]
    },
    {
      "cell_type": "markdown",
      "metadata": {
        "id": "5pRmWvds4LOJ"
      },
      "source": [
        "# Possible Missions for Hands-On Education Technology, LLC"
      ]
    },
    {
      "cell_type": "markdown",
      "metadata": {
        "id": "S3LtGAe1UQ3l"
      },
      "source": [
        "## Meeting Notes"
      ]
    },
    {
      "cell_type": "markdown",
      "metadata": {
        "id": "UnH_PzKbtA7h"
      },
      "source": [
        "### LBL 11/12/2019\n",
        "\n",
        "Carl, Dan, Richard\n",
        "\n",
        "[Concord consortium](https://learn.concord.org/collections)\n",
        "\n",
        "[Summit learning platform](https://www.summitlearning.org/)\n",
        "\n",
        "[Joshua Blumenstock, UCB, LSST](http://www.jblumenstock.com/)\n",
        "\n"
      ]
    },
    {
      "cell_type": "markdown",
      "metadata": {
        "id": "dR0FFFTvT_BR"
      },
      "source": [
        "## RGP Explorations\n"
      ]
    },
    {
      "cell_type": "markdown",
      "metadata": {
        "id": "bbT328ndWIbc"
      },
      "source": [
        "####[HOET Dataflow Diagram](https://www.lucidchart.com/documents/view/bd03068b-fe21-440f-8b2b-74bea35adaa4/0_0)"
      ]
    },
    {
      "cell_type": "markdown",
      "metadata": {
        "id": "S6hb7Xwo98-h"
      },
      "source": [
        "### HR Diagram from Gaia archive\n",
        "\n"
      ]
    },
    {
      "cell_type": "markdown",
      "metadata": {
        "id": "vUX4PIZ5Zx7v"
      },
      "source": [
        "[Gaia archive advanced search](https://gea.esac.esa.int/archive/)"
      ]
    },
    {
      "cell_type": "code",
      "metadata": {
        "id": "ilvXdecxaLwc"
      },
      "source": [
        "SELECT TOP 6000 gaia.source_id,\n",
        "\tgaia.phot_g_mean_mag + 5 * log10(gaia.parallax) - 10 AS g_mag_abs ,\n",
        "\tgaia.phot_g_mean_mag - tmass.ks_m AS g_min_ks \n",
        "FROM gaiadr1.tgas_source AS gaia\n",
        "INNER JOIN gaiadr1.tmass_best_neighbour AS xmatch\n",
        "\tON gaia.source_id = xmatch.source_id\n",
        "INNER JOIN gaiadr1.tmass_original_valid AS tmass\n",
        "\tON tmass.tmass_oid = xmatch.tmass_oid\n",
        "WHERE gaia.parallax/gaia.parallax_error >= 5 AND\n",
        "\tph_qual = 'AAA' AND\n",
        "\tsqrt(power(2.5 / log(10) * gaia.phot_g_mean_flux_error\n",
        "\t\t/ gaia.phot_g_mean_flux, 2) ) <= 0.05 AND\n",
        "\tsqrt(power(2.5/log(10)*gaia.phot_g_mean_flux_error\n",
        "\t\t/ gaia.phot_g_mean_flux, 2)\n",
        "\t\t+ power(tmass.ks_msigcom, 2)) <= 0.05"
      ],
      "execution_count": null,
      "outputs": []
    },
    {
      "cell_type": "markdown",
      "metadata": {
        "id": "UC6jl4wNaVPX"
      },
      "source": [
        "[rgp Gaia DR HRD 1k](https://docs.google.com/spreadsheets/d/1MTxRPwDJuOR6IXRBmUEfpCjhfMBxEoZE2trSooSCObI/edit#gid=1761981832)"
      ]
    },
    {
      "cell_type": "markdown",
      "metadata": {
        "id": "CFWIMrcfizzW"
      },
      "source": [
        "[rgp Teacher Tasks for HRD creation from Gaia](https://docs.google.com/document/d/1bh2fxjLk11YWmxxLhEsqVjqWoRyV5M5ZpqYmlTZ3w9A/edit)\n",
        "\n"
      ]
    },
    {
      "cell_type": "markdown",
      "metadata": {
        "id": "3Il15mguWIbZ"
      },
      "source": [
        "## Existing Data Analysis Platforms"
      ]
    },
    {
      "cell_type": "markdown",
      "metadata": {
        "id": "zjvvNJp0WIbb"
      },
      "source": [
        "refby Concord Consortium conference:\n",
        "\n",
        "[Common Online Data Analysis\n",
        "Platform (CODAP)](https://codap.concord.org/)\n",
        "\n",
        "[Fieldscope](http://www.fieldscope.org/)\n",
        "\n",
        "[Knowledge discovery from data (IBM KDD)](https://researcher.watson.ibm.com/researcher/view_group.php?id=144)\n",
        "\n",
        "\n",
        "\n",
        "\n"
      ]
    },
    {
      "cell_type": "markdown",
      "metadata": {
        "id": "JBAj0dTwM-Df"
      },
      "source": [
        "##Software"
      ]
    },
    {
      "cell_type": "markdown",
      "metadata": {
        "id": "jWKYLnqrO07v"
      },
      "source": [
        "###AstroImageJ\n",
        "\n",
        "[Collins et al., AJ 153:77 (2017)](https://iopscience.iop.org/article/10.3847/1538-3881/153/2/77/pdf)\n",
        "\n",
        "\n",
        "\n"
      ]
    },
    {
      "cell_type": "markdown",
      "metadata": {
        "id": "QI2-G4NaT4tp"
      },
      "source": [
        "###[AstroML](https://www.astroml.org/)"
      ]
    },
    {
      "cell_type": "markdown",
      "metadata": {
        "id": "YHe06RrkPbGr"
      },
      "source": [
        "###[JS9](https://js9.si.edu/)"
      ]
    },
    {
      "cell_type": "markdown",
      "metadata": {
        "id": "KU6EzugrO77l"
      },
      "source": [
        "###[JS9 Berkeley](https://hou-js9plugins.educontinuum.org/)"
      ]
    },
    {
      "cell_type": "markdown",
      "metadata": {
        "id": "cMUPcuv6PVOj"
      },
      "source": [
        "###SAOImage ds9"
      ]
    },
    {
      "cell_type": "markdown",
      "metadata": {
        "id": "hPkjIXpzPcGZ"
      },
      "source": [
        "###SalsaJ"
      ]
    },
    {
      "cell_type": "markdown",
      "metadata": {
        "id": "X43S3OJaiby0"
      },
      "source": [
        "## People"
      ]
    },
    {
      "cell_type": "markdown",
      "metadata": {
        "id": "7xDehnwXOovi"
      },
      "source": [
        "###Karen A Collins\n",
        "\n",
        "AstroImageJ"
      ]
    },
    {
      "cell_type": "markdown",
      "metadata": {
        "id": "XelopaQV3RHy"
      },
      "source": [
        "###Dennis Conti\n",
        "\n",
        "[Chair, AAVSO Exoplanet Section](https://www.aavso.org/exoplanet-section)\n",
        "\n",
        "Authors lots of very useful guides to exoplanet observing."
      ]
    },
    {
      "cell_type": "markdown",
      "metadata": {
        "id": "CD6rOhxEt9dp"
      },
      "source": [
        "###Michael Fitzgerald\n",
        "\n",
        "[Our Solar Siblings](https://www.oursolarsiblings.com/about/)\n",
        "\n",
        "[Robotic Telescopes Student Research and Education (RTSRE)  Conferences, 2018 & 2019](https://rtsre.net/)\n"
      ]
    },
    {
      "cell_type": "markdown",
      "metadata": {
        "id": "iqYu921D3nif"
      },
      "source": [
        "###Rachel Freed\n",
        "\n",
        "[Institute for Student Astronomical Research (InStar)](https://www.in4star.org/)"
      ]
    },
    {
      "cell_type": "markdown",
      "metadata": {
        "id": "wEXDpfdoshxW"
      },
      "source": [
        "### Andrew Frankoi\n",
        "\n",
        "Fromm Institute, U. of San Francisco\n",
        "\n",
        "Prof Emeritus Foothill College\n",
        "\n",
        "Former Executive Dir, ASP\n",
        "\n",
        "Project ASTRO originator\n",
        "\n"
      ]
    },
    {
      "cell_type": "markdown",
      "metadata": {
        "id": "wzJ-dBo4WI7W"
      },
      "source": [
        "### Edward Gomez\n",
        "\n",
        "Las Cumbres Observatory Education Lead\n",
        "\n"
      ]
    },
    {
      "cell_type": "markdown",
      "metadata": {
        "id": "RWpL87SU7v3I"
      },
      "source": [
        "###Melissa Graham"
      ]
    },
    {
      "cell_type": "markdown",
      "metadata": {
        "id": "Lr9WTHyj501A"
      },
      "source": [
        "### Chris Impey\n",
        "\n",
        "University of Arizona\n",
        "\n",
        "[TeachAstronomy](https://www.teachastronomy.com/textbook/How-Science-Works/The-Scientific-Method/)"
      ]
    },
    {
      "cell_type": "markdown",
      "metadata": {
        "id": "Q7bbpWS7kxmC"
      },
      "source": [
        "###Kevin M. Lee\n",
        "[website](http://physics.unl.edu/~klee/lee.html)\n",
        "\n",
        "Department of Physics and Astronomy\n",
        "\n",
        "U. Nebraska-Lincoln\n",
        "\n",
        "[Astronomy Education at the University of Nebraska-Lincoln](https://astro.unl.edu/)"
      ]
    },
    {
      "cell_type": "markdown",
      "metadata": {
        "id": "Eeo13K4KPlGg"
      },
      "source": [
        "### Franck Marchis\n",
        "\n",
        "Chief Scientific Officer, UniStellar, 19 Rue Vacon 13001 Marseille, France\n",
        "\n",
        "Senior Astronomer at the SETI Institute, Carl Sagan Center, Mountain View, CA USA\n",
        "\n",
        "Observatoire de Paris, LESIA, Medoun, France"
      ]
    },
    {
      "cell_type": "markdown",
      "metadata": {
        "id": "3D6qjuwqPg_v"
      },
      "source": [
        "### Dan Peluso\n",
        "\n"
      ]
    },
    {
      "cell_type": "markdown",
      "metadata": {
        "id": "ZV_8xvKpO2hP"
      },
      "source": [
        "### Carl P\n",
        "\n",
        "https://en.wikipedia.org/wiki/Carlton_R._Pennypacker\n"
      ]
    },
    {
      "cell_type": "markdown",
      "metadata": {
        "id": "xhOjAJNjTLPZ"
      },
      "source": [
        "### Greg Schultz\n",
        "\n",
        "Senior Scientist and Educator\n",
        "Astronomical Society of the Pacific (ASP)\n",
        "390 Ashton Avenue\n",
        "San Francisco, CA 94112\n",
        "http://www.astrosociety.org/education "
      ]
    },
    {
      "cell_type": "markdown",
      "metadata": {
        "id": "xBJMSuuCjEuB"
      },
      "source": [
        "## Publications"
      ]
    },
    {
      "cell_type": "markdown",
      "metadata": {
        "id": "3upi0uKRuZjk"
      },
      "source": [
        "Meta-publications\n",
        "\n",
        "[Astrophysics Data System](http://ads.harvard.edu/)  Really, a database of publications."
      ]
    },
    {
      "cell_type": "markdown",
      "metadata": {
        "id": "AnN4IcAlRMg-"
      },
      "source": [
        "[Marchis et. al, Unistellar eVscopes: Smart, portable, and easy-to-use telescopes forexploration, interactive learning, and citizen astronomy (2019)](https://reader.elsevier.com/reader/sd/pii/S0094576519312950?token=8F866D7E98A438F1AA88CBE95A7E16878B0CE5C3FE0D6B33EF5F8B86550F46A3616DD7A5122ADC0A3DB20B80F2762AF1)\n",
        "\n",
        "Unistellar has created the Enhanced Vision Telescope (eVscope), a compact telescope that amplifies light so users can see hundreds of nebulae and galaxies directlythrough its electronics eyepiece. It can also pinpoint and identify objects in the sky, making amateur astronomy fun and more accessible to the public. Thanks to itssensitivity and accuracy, the eVscope is a powerful tool able to generate data that can be used by scientists to search for transient events like supernovae, near-Earthasteroids, and comets. This constellation of small, & smart telescopes could also enhance and supplement data generated by the small number of large telescopesoperating today. Unistellar initiated a partnership with the SETI Institute to identify and implement scientific applications for a network of eVscopes. We summarizein this article the technology behind the eVscope and its real-time data processing (Enhanced Vision, Automatic Field Detection), then show several applicationsaccessible to future users, including asteroid occultations, the detection of the atmosphere of Pluto and observations of near-Earth asteroids. The Unistellar networkhas the potential to make citizen astronomy a popular reality by offering all users (new or experienced) a tool to explore the night sky with a powerful and reliableinstrument while they contribute to scientific investigations."
      ]
    },
    {
      "cell_type": "markdown",
      "metadata": {
        "id": "J-PrUIvyjKEH"
      },
      "source": [
        "[Danaia et al.(2012) Space to Grow: LCOGT.net and Improving Science\n",
        "Engagement in Schools](http://access.portico.org/Portico/#!journalAUSimpleView/tab=PDF?cs=ISSN_15391515?ct=E-Journal%20Content?auId=ark:/27927/pgg3ztfbsp5)\n",
        "\n",
        "One of the main aims of the Space to Grow project is to explore and identify ways in which students and teachers could make scientific use of the images obtained from research-grade telescopes and to investigate the impact of the approaches adopted on both students and teachers.\n",
        "\n",
        "refby: [AAS list of publications in Astronomy Education Review (2001-2013)](https://aas.org/teach/subject-index-papers-astronomy-education-review-2001-2013#astro)\n",
        "\n",
        "rgp: Spot on; not just \"pretty pictures\"; Australian schools\n",
        "\n",
        "See also:\n",
        "\n",
        "[This blog post from 2014](https://www.smallstepstospace.com/content/2014/3/26/project-space-to-grow)\n",
        "\n",
        "[Frew et al. (2013)](https://www.cambridge.org/core/journals/publications-of-the-astronomical-society-of-australia/article/k-16-an-asymmetric-planetary-nebula-with-a-binary-central-star/4B435311BBCDD43E9D5CFC353BF7B3D4) The observations and data analyses reported in this paper were conducted in conjunction with Year 11 high school students as part of an Australian Research Council Linkage Grant science education project, denoted Space To Grow, conducted jointly by professional astronomers, educational researchers, teachers, and high-school students.\n",
        "\n",
        "But see:\n",
        "[Macquarie University Space to Grow home](https://physics.mq.edu.au/astronomy/space2grow/). The site has a decidedly moribund feel.\n"
      ]
    },
    {
      "cell_type": "markdown",
      "metadata": {
        "id": "Io5kU7Bqo7Tx"
      },
      "source": [
        "[Prather et al. (2013) Measuring the Conceptual Understandings of Citizen\n",
        "Scientists Participating in Zooniverse Projects: A First\n",
        "Approach](http://access.portico.org/Portico/#!journalAUSimpleView/tab=PDF?cs=ISSN_15391515?ct=E-Journal%20Content?auId=ark:/27927/pgg3ztfcwj0)\n",
        "\n",
        " We found that citizen scientists with the highest level of participation in the Galaxy Zoo and Moon Zoo projects also have the highest average correct scores on the items of the ZACS and LCCI. However, the limited nature of the data provided by Zooniverse participants prevents us from being able to evaluate the statistical significance of this finding, and we make no claim about whether there is a causal relationship between one’s participation in Galaxy Zoo or Moon Zoo and one’s level of conceptual understanding or reasoning ability on the astrophysical topics\n",
        "assessed by the ZACS or the LCCI."
      ]
    },
    {
      "cell_type": "markdown",
      "metadata": {
        "id": "FvLR3G1PvVzr"
      },
      "source": [
        "[Impey et al. (2013) A New Online Astronomy Resource for Education and Outreach](http://access.portico.org/Portico/#!journalAUSimpleView/tab=HTML?cs=ISSN_15391515?ct=E-Journal%20Content?auId=ark:/27927/pgg3ztfct93)\n",
        "\n",
        "Astronomy is well served by the Internet; a Google search for “astronomy” in July 2012 returned over 100 × 106 results. The web sites most frequently visited range from online magazines and blogs to observatories and space missions. The Internet has a lot of information and resources for students and for informal adult learners, but we saw the value in creating a “one-stop-shop” for educational astronomy content. The Teach Astronomy site ( (uri: http://www.teachastronomy.com)) fills a unique niche because it offers multimedia materials spanning the entire subject and created by professional astronomers. The core resource is a set of articles derived from the introductory textbook called The Universe Revealed by Chris Impey and Bill Hartmann. Additional materials include video clips explaining all topics of astronomy, a set of astronomy encyclopedia articles from Wikipedia, images from Astronomy Picture of the Day, daily podcasts from 365 Days of Astronomy, and an RSS feed of recent Space and Time news articles from Science Daily. This paper describes the audience, materials, and the educational uses of Teach Astronomy. Figure [1] shows the traffic on the web site during its first year and a half of development.\n",
        "\n",
        "rgp: See, [Teach Astronomy](https://www.teachastronomy.com/)\n"
      ]
    },
    {
      "cell_type": "markdown",
      "metadata": {
        "id": "3kM8ZLU1v0-H"
      },
      "source": [
        "[Frankoi (2013) Astronomy Education Review: An Afterword](http://access.portico.org/Portico/#!journalAUSimpleView/tab=HTML?cs=ISSN_15391515?ct=E-Journal%20Content?auId=ark:/27927/pgg3ztfcv16)\n",
        "\n"
      ]
    },
    {
      "cell_type": "markdown",
      "metadata": {
        "id": "_MiPJMSJyltR"
      },
      "source": [
        "[Gould et al. (2007) What’s Educational about Online Telescopes?:\n",
        "Evaluating 10 Years of MicroObservatory](http://access.portico.org/Portico/#!journalAUSimpleView/tab=PDF?cs=ISSN_15391515?ct=E-Journal%20Content?auId=ark:/27927/pgg3ztfbdch)\n",
        "\n",
        "Harvard-Smithsonian Center for Astrophysics\n",
        "\n",
        "The MicroObservatory network of five online telescopes has been used by middle and high school\n",
        "students, their teachers, and the public in all 50 states to carry out a wide variety of inquiry-driven\n",
        "projects. From an analysis of 475 student projects and other data, we report substantial gains in students’\n",
        "conceptual understanding of what telescopes do, of core concepts in astronomy and physical science, of\n",
        "inquiry skills, and of how mathematics can be used to model nature. Our summary of lessons learned\n",
        "should be helpful to anyone involved in the quest to provide access to powerful scientific instruments over\n",
        "the Internet. \n",
        "\n",
        "...\n",
        "\n",
        "The groundwork for this new field was laid in the 1980s, when pioneering projects such as Hands-On\n",
        "Universe (HOU) (2006) used the Internet to put archived research-grade astronomical images into the\n",
        "hands of precollege students. As access to the Internet grew, and as advances in technology drove down the cost of charge-coupled device (CCD) imagers, it became feasible to give students and the public access\n",
        "to remotely controlled automated telescopes. For example, the Bradford Robotic Telescope (BRT) (2006)\n",
        "was one of the first to be made available part time to the public, while NASA’s Telescopes in Education\n",
        "project has provided students with evenings of real-time access to a research-grade telescope (Mayo et al.\n",
        "2002). Today, there are a variety of emerging commercial and nonprofit online telescope projects.\n",
        "\n",
        "rgp: Must cite!\n",
        "\n"
      ]
    },
    {
      "cell_type": "markdown",
      "metadata": {
        "id": "HngkSQ4P6QSj"
      },
      "source": [
        "## Grant Opportunities"
      ]
    },
    {
      "cell_type": "markdown",
      "metadata": {
        "id": "twIaPTL828wp"
      },
      "source": [
        "### AAS-EPD Mini-Grants\n",
        "\n",
        "The focus of this mini-grant program is professional development in the area of education and mentoring of AAS members (i.e., the intended audience of funded programs will be AAS members who wish to learn about education at any level — including education of professional astronomers).\n",
        "\n",
        "[home](https://aas.org/education/aas-epd-mini-grant-program)\n",
        "\n",
        "August, 2020"
      ]
    },
    {
      "cell_type": "markdown",
      "metadata": {
        "id": "Ng56eZeEwAhL"
      },
      "source": [
        "###National Defense Education Program (NDEP) for Science, Technology, Engineering, and Mathematics (STEM) Education, Outreach, and Workforce Initiative Programs, Fiscal Year 2020\n",
        "Department of Defense\n",
        "\n",
        "[grants.gov page](https://www.grants.gov/web/grants/view-opportunity.html?oppId=323091)\n",
        "\n",
        "Feb 24, 2020"
      ]
    },
    {
      "cell_type": "markdown",
      "metadata": {
        "id": "HpuuL-h-aATF"
      },
      "source": [
        "###California Subject Matter Projects\n",
        "\n",
        "[CSMP page](https://csmp.ucop.edu/csp)\n",
        "\n",
        "Just an LHS thing?  Why no Bay Area programs??"
      ]
    },
    {
      "cell_type": "markdown",
      "metadata": {
        "id": "A0kpiJKBaA8k"
      },
      "source": [
        "### Computer Science for All (NSF)\n",
        "\n",
        "[CSforAll:RPP](https://www.nsf.gov/funding/pgm_summ.jsp?pims_id=505359&org=NSF&sel_org=NSF&from=fund)\n",
        "\n",
        " April 13, 2020\n"
      ]
    },
    {
      "cell_type": "markdown",
      "metadata": {
        "id": "qOkjKR1vIAe4"
      },
      "source": [
        "### Innovative Technology Experiences for Students and Teachers  (NSF)\n",
        "\n",
        "[ITEST](https://www.nsf.gov/funding/pgm_summ.jsp?pims_id=5467&org=EHR&from=home)\n",
        "\n",
        "August 14, 2020\n",
        "\n"
      ]
    },
    {
      "cell_type": "markdown",
      "metadata": {
        "id": "A20rCU5QZ4V4"
      },
      "source": [
        "### Discovery Research PreK-12  (NSF)\n",
        "\n",
        "[DRK-12](https://www.nsf.gov/funding/pgm_summ.jsp?pims_id=500047&org=NSF&sel_org=NSF&from=fund)\n",
        "\n",
        "November 11, 2020"
      ]
    },
    {
      "cell_type": "markdown",
      "metadata": {
        "id": "EgD9vTqeTRT-"
      },
      "source": [
        "### Small Business Technology Transfer Program Phase I (NSF)\n",
        "\n",
        "[NSF STTR Program Page](https://www.nsf.gov/funding/pgm_summ.jsp?pims_id=505362)\n",
        "\n",
        "[NSF SBIR/STTR (America's Seed Fund - general info)](https://seedfund.nsf.gov/about/)\n",
        "\n",
        "Submit proposal pitch at any time\n",
        "\n",
        "\n"
      ]
    },
    {
      "cell_type": "markdown",
      "metadata": {
        "id": "jv7CSjmaLEFb"
      },
      "source": [
        "### STEM + Computing K-12 Education  (NSF)\n",
        "\n",
        "[STEM+C](https://www.nsf.gov/funding/pgm_summ.jsp?pims_id=505006&org=EHR&from=home)\n",
        "\n",
        "Moribund?\n"
      ]
    },
    {
      "cell_type": "markdown",
      "metadata": {
        "id": "4gPS8DaNZfYD"
      },
      "source": [
        "### Improving Undergraduate STEM Education: Computing in Undergraduate Education (NSF)\n",
        "\n",
        "[IUSE-CUE](https://www.nsf.gov/funding/pgm_summ.jsp?pims_id=505630&org=NSF&sel_org=NSF&from=fund)\n",
        "\n",
        "Moribund?\n"
      ]
    },
    {
      "cell_type": "markdown",
      "metadata": {
        "id": "kHoD9tW8LyB4"
      },
      "source": [
        "###Improving Undergraduate STEM Education: Education and Human Resources (NSF)\n",
        "\n",
        "[IUSE-EHR](https://www.nsf.gov/publications/pub_summ.jsp?WT.z_pims_id=505082&ods_key=nsf19601)\n",
        "\n",
        "August 5, 2020\n",
        "\n",
        "[DCL](https://www.nsf.gov/pubs/2020/nsf20034/nsf20034.jsp)\n"
      ]
    },
    {
      "cell_type": "markdown",
      "metadata": {
        "id": "OPhPUjhfN19d"
      },
      "source": [
        "###Improving Undergraduate STEM Education: Hispanic-Serving Institutions (NSF)\n",
        "\n",
        "[IUSE-HSI](https://www.nsf.gov/publications/pub_summ.jsp?ods_key=nsf19540)\n",
        "\n",
        "Third Wednesday in September, Annually"
      ]
    },
    {
      "cell_type": "markdown",
      "metadata": {
        "id": "MIOGa1USXzVV"
      },
      "source": [
        "### Education Research (ED)\n",
        "\n",
        "[program page](https://www2.ed.gov/programs/edresearch/index.html)\n",
        "\n",
        "Relevant?"
      ]
    },
    {
      "cell_type": "markdown",
      "metadata": {
        "id": "wgsfXUa9hj-f"
      },
      "source": [
        "### Advancing Informal STEM Learning  (AISL)\n",
        "\n",
        "https://www.nsf.gov/funding/pgm_summ.jsp?pims_id=504793\n",
        "\n",
        "Moribund?"
      ]
    },
    {
      "cell_type": "markdown",
      "metadata": {
        "id": "90czoKtGYaiY"
      },
      "source": [
        "### Department of Education (ED) Small Business Innovation Research Program (ED/IES)\n",
        "\n",
        "[ED program page](https://www2.ed.gov/programs/sbir/index.html)\n",
        "\n",
        "[IES program page](https://ies.ed.gov/sbir/solicitations.asp)\n",
        "\n",
        "Looks moribund"
      ]
    },
    {
      "cell_type": "markdown",
      "metadata": {
        "id": "PZl52R5VDwji"
      },
      "source": [
        "## SBIR Information"
      ]
    },
    {
      "cell_type": "markdown",
      "metadata": {
        "id": "SeJnu0HhXqzl"
      },
      "source": [
        "### Useful Links\n",
        "\n",
        "[Seedfund application page](https://seedfund.nsf.gov/apply/)\n",
        "\n",
        "[SBIR eligibility requirements](https://www.sbir.gov/faqs/eligibility-requirements)\n",
        "\n",
        "[specifications for project pitch](https://seedfund.nsf.gov/project-pitch/)"
      ]
    },
    {
      "cell_type": "markdown",
      "metadata": {
        "id": "CwlYnTFPXWh4"
      },
      "source": [
        "### Lists of awards\n",
        "\n",
        "[Portfolio of recent SBIR/STTR grants](https://seedfund.nsf.gov/portfolio/#educational-technologies-and-applications-ea)\n",
        "\n",
        "[SBIR search](https://www.sbir.gov/sbirsearch/award/all/?topic=EA&f%5B0%5D=itm_field_award_yr%3A2019&f%5B1%5D=itm_field_award_yr%3A2018&f%5B2%5D=itm_field_award_yr%3A2017)"
      ]
    },
    {
      "cell_type": "markdown",
      "metadata": {
        "id": "8uhgGV2wDzVV"
      },
      "source": [
        "###STTR/SBIR awards of interest\n",
        "\n",
        "Culled from various sources, including especially [this search on the NSF site](https://www.nsf.gov/awardsearch/advancedSearchResult?ProgEleCode=1505,1591,5371,5373&BooleanElement=Any&BooleanRef=Any&ActiveAwards=true&#results), but [this list might be more comprehensive](https://www.sbir.gov/sbirsearch/award/all/?topic=EA&f%5B0%5D=itm_field_award_yr%3A2019&f%5B1%5D=itm_field_award_yr%3A2018&f%5B2%5D=itm_field_award_yr%3A2017)"
      ]
    },
    {
      "cell_type": "markdown",
      "metadata": {
        "id": "1-Vaj_AbneuE"
      },
      "source": [
        "[SBIR Phase I: Curriculum Driven Gamification of Space Exploration](https://www.sbir.gov/sbirsearch/detail/1499733)\n",
        "\n",
        "rgp: This is an 2018 NSF-administered award, but I haven't been able to find it on the NSF site.\n",
        "\n",
        "The proposed project addresses the need for relatable astronomy education by gamifying space exploration through robotic telescope use. The project aims to advance scientific knowledge of astronomy through the use of gamified, curated astronomy curricula that bring authentic remote observing practices into the classroom and any personal platform with internet access. The project will take users through a series of quests to explore the regions of the night sky, and the objects within, defined from the eighty-eight constellations recognized by the International Astronomical Union. Explorer badges will be awarded on a \"gravity point\" system of successful observing missions, encouraging the practice of real astronomical observing, data handling and image processing practices, and comprehensive content research. The methods to successful implementation will include research of game design, establishing partners to support distribution of the learning materials into classrooms, and web/mobile application development.\n",
        "\n",
        "rgp: See [Slooh website](https://www.slooh.com/).\n",
        "\n",
        "Founder is entrepreneur [Michael Paolucci](https://www.linkedin.com/in/michael-paolucci-0615639/detail/recent-activity/posts/).\n",
        "\n",
        "Paige Godfrey (PI) has since left the company.\n",
        "\n",
        "Astronomer-level membership [for sale on Amazon](https://www.amazon.com/Slooh-Astronomer-Membership/dp/B01M3R8KNT) ($300 annually). A much older Amazon listing included mixed product reviews. See also [Twitter page](https://twitter.com/slooh?lang=en). \n",
        "\n",
        "Nothwitstanding [this report](http://www.spacedaily.com/news/telescopes-05h.html), I don't see any links on discovery.com.\n",
        "\n",
        "[Favorable review in Cloudy Nights, with images](https://www.cloudynights.com/topic/655254-slooh-for-imaging-i-like-it/).\n",
        "\n",
        "[Slooh image of M51 from 2018](https://main.slooh.com/my-pictures/show-image/6366801/42ccb0ffc544d51ed7a3e3c4aca5872e)\n",
        "\n",
        "\n"
      ]
    },
    {
      "cell_type": "markdown",
      "metadata": {
        "id": "r0ys1KxLD3S5"
      },
      "source": [
        "[SBIR Phase II: Engineering Design Instruction Software for implementing Objectives of Next (EDISON) Generation Standards in K-12\n",
        "Award Number:1831202; Principal Investigator:Christopher Whitmer; Co-Principal Investigator:Christa Jackson; Organization:Parametric Studio Inc.;NSF Organization:IIP Start Date:09/01/2018; Award Amount:$885,480.00; Relevance:48.0;](https://www.nsf.gov/awardsearch/showAward?AWD_ID=1831202&HistoricalAwards=false)\n",
        "\n",
        "The project will create a collaborative platform for middle school engineering projects where students create, analyze, simulate, and construct designs for several types of projects like bridges, cars, circuits, simple machines, drones, and robots. "
      ]
    },
    {
      "cell_type": "markdown",
      "metadata": {
        "id": "smiUR1thYB0T"
      },
      "source": [
        "[SBIR Phase II: A STEM toolkit enabling global air quality experiments](https://www.nsf.gov/awardsearch/showAward?AWD_ID=1758625&HistoricalAwards=false)\n",
        "\n",
        "The proposed technology will be the first collaborative educational IoT STEM platform to be developed, and is innovative in the field of Educational Technology, which has yet to adopt web-connected sensors that generate big data on a global scale. At present, there is no mechanism for schools to collect and share real data between classrooms and schools in an organized way. The proposed innovation allows users to communicate via a global network and is capable of being paired with an unlimited variety of scientific instruments and data sources, to support versatile, engaging, coordinated, multi-school experiments and data sharing. Data science now impacts virtually every profession in some way, and the platform will uniquely expose students to big data analytics in an engaging and relevant way. In Phase 1, feasibility of approach was firmly established. Phase II objectives will be to expand the educational platform developed in Phase I to optimize national/global impact and support applicability to big data research as well as a range of sensors. Goals include to expand tools to view and analyze data, refine and expand curriculum, develop an Application Programming Interface and create software tools to manipulate and share data/curriculum.\n",
        "\n",
        "rgp: [Wicked Device LLC](https://shop.wickeddevice.com/) [Air Quality Egg](https://airqualityegg.com/egg)"
      ]
    },
    {
      "cell_type": "markdown",
      "metadata": {
        "id": "OxASQb0YEX7i"
      },
      "source": [
        "[STTR Phase II: A Low Cost Robotics kit for Elementary Education\n",
        "Award Number:1831177; Principal Investigator:Tom Lauwers; Co-Principal Investigator:Illah Reza Nourbakhsh; Organization:BirdBrain Technologies;NSF Organization:IIP Start Date:08/15/2018; Award Amount:$761,999.00; Relevance:48.0;](https://www.nsf.gov/awardsearch/showAward?AWD_ID=1831177&HistoricalAwards=false)\n",
        "\n",
        "The core contribution of this work is composed of a flexible hardware kit to enable active learning within the core elementary curriculum as well as more traditional maker activities, and a suite of apps that allow students to use this kit to learn specific math content while also providing options to learn computational thinking through general purpose programming apps. To accomplish this, the team employs a proven design process in which hardware, software, and curriculum are simultaneously designed to align to learner goals, evaluated in classroom studies, and iteratively refined. "
      ]
    },
    {
      "cell_type": "markdown",
      "metadata": {
        "id": "2ibmx3GyGZx_"
      },
      "source": [
        "[STTR Phase I: Robotics Launchpad - A Design-Driven Educational Robotics Framework\n",
        "Award Number:1843476; Principal Investigator:Poyu Chuang; Co-Principal Investigator:Anurag Purwar; Organization:Mechanismic Inc.;NSF Organization:IIP Start Date:02/01/2019; Award Amount:$224,959.00; Relevance:48.0;](https://www.nsf.gov/awardsearch/showAward?AWD_ID=1843476&HistoricalAwards=false)\n",
        "\n",
        "The proposed research seeks to develop a novel design-driven educational robotics framework encompassing 1) a modular, customizable, and compatible with off-the shelf electronics hardware kit consisting of rigid and compliant parts for rapid prototyping of robot structures and mechanisms, 2) a multi-modal mobile app for synthesis and simulation of robot motions, 3) a web-based CAD interface for designing users' custom robot parts that interface seamlessly with the kit, and 4) instructional material and curriculum for middle and high-schools.\n",
        "\n",
        "rgp: See [SnappyXO.com](http://snappyxo.com/)"
      ]
    },
    {
      "cell_type": "markdown",
      "metadata": {
        "id": "PfnDrvN-O_7C"
      },
      "source": [
        " [SBIR Phase I: EasyAuthor - An End User Authoring Tool for Open and Intelligent Technology-Enhanced Assessments.](https://www.nsf.gov/awardsearch/showAward?AWD_ID=1646935&HistoricalAwards=false)\n",
        " \n",
        " This project will feature two distinctive innovations. The first is a visual programming environment with symbolic abstraction of complex programming constructs that are imperative for the design and creation of TEAs. This will enable intuitive authoring of complex TEAs by non-programmers (an impossibility today) and break down the biggest friction point for achieving access to TEAs at scale. The second is an open format for representation of TEAs as intelligent objects that are platform agnostic and \"embeddable\" in any assessment delivery system. This will facilitate distribution and usage of TEAs in browsers and thin client environments without the need for server side functionality mandated by proprietary systems. This will eventually break the stranglehold of proprietary assessment delivery systems that tie TEA access to their platforms. Looking Glass Ventures LLC, Palo Alto (no website). Also received Phase II funding.\n",
        " \n",
        "Refby: [NSF Seed Fund Portfolio (Topic area EA)](https://seedfund.nsf.gov/portfolio/#educational-technologies-and-applications-ea)"
      ]
    },
    {
      "cell_type": "markdown",
      "metadata": {
        "id": "p4VMrCQpQKjQ"
      },
      "source": [
        "[SBIR Phase I: Interactive Podcast Platform For Listening Comprehension](https://www.nsf.gov/awardsearch/showAward?AWD_ID=1843693&HistoricalAwards=false)\n",
        "\n",
        "This project will break new ground and modernize the way listening comprehension is taught and assessed with an innovative interactive learning platform that takes traditional elements of game play and applies them to listening comprehension activities (i.e. vocabulary, fluency and comprehension). More specifically, each audio story will have embedded audio cues that lead to audio/visual comprehension questions, games and polls. The platform will include account management, student rostering, student progress monitoring, administrative dashboards and interactive teacher guides for using audio in the classroom. Studies show that both game-based learning and audio content increase motivation in students, however no studies examine the use of both game-based learning and audio together. The research conducted for this Small Business Innovation Research Phase I project will use a qualitative design to best understand and describe how classroom teachers and students use and engage with the interactive audio platform. The goal is to conduct interviews with teachers and usability testing with students to ensure that platform features are engaging, feasible, easily integrated and demonstrate potential for intended educational outcomes. Lessons learned from this Phase I award will be applied during Phase II, when a more robust platform will be developed and commercialized. (https://tinkercast.com/)"
      ]
    },
    {
      "cell_type": "markdown",
      "metadata": {
        "id": "DaiCqCg084PB"
      },
      "source": [
        "[ SBIR Phase I: Student Gaming and Algorithms](https://www.nsf.gov/awardsearch/showAward?AWD_ID=1912785&HistoricalAwards=false)\n",
        "\n",
        "This SBIR Phase I project will focus on developing and demonstrating feasibility of the high-risk components of the Design Builder Pro Simulator application. In general, the Phase I will require curriculum development and developing a prototype of the user interface, gaming and design layout. The prototype software will be integrated with intelligent algorithms to adjust gaming difficulty based on student performance. More specifically, the project includes the following 3 objectives: 1. Design and build alpha technology that successfully passes verification testing. Success metrics include the alpha prototype software interface and gaming subcomponents is developed and successfully passes all technical verification. 2. Develop intelligent algorithms to adaptively adjust game parameters. Success metrics include the developed algorithms accurately adjust game difficulty based on subject performance. 3. Complete a usability study to validate the student experience and core curriculum. Success metrics include Improved student knowledge about and interest in construction, significant posi ...\n",
        "\n",
        "rgp: [DesignBuilderPro](https://designbuilder.co.uk/software/for-education) is a UK company.  The awardee is [Fidelium Tech](http://www.fideliumtech.com/), an Austin, TX videogame company, with a minimal website that basically redirects to [charet.io](https://charet.io/) \"powered by Fidelium Tech\" a product that helps people remodel their homes, but then again, the start date was only 1 July 2019.\n",
        "\n",
        "Certainly opens the possibility that the awardee is a US company that adapts a product developed abroad."
      ]
    },
    {
      "cell_type": "markdown",
      "metadata": {
        "id": "UG0EbJDZUlGY"
      },
      "source": [
        "[SBIR Phase I: Learnics: Actionable Learning Analytics for the Classroom](https://www.nsf.gov/awardsearch/showAward?AWD_ID=1913555&HistoricalAwards=false)\n",
        "\n",
        "This SBIR Phase I project is funding high-risk research that will lead to the development of software and algorithms that help teachers improve their instruction by providing them with actionable analytics about how their students are learning. Through the use of targeted online learning analytics, this project will bring to individual teachers in the classroom useful information about how their individual students are learning. Current research focuses on large-scale, state- or nationwide- analytics, which comes years too late and is too broad to be usable by individual teachers to help students. The focus of this high-risk research is to develop analytics about individual students for use by individual teachers in the classroom in real-time, and monitor progress of these analytics throughout the school year. Armed with these analytics, teachers will be able to better understand the strengths and limitations of their individual students, especially as compared to their classroom. Using machine learning and NLP, these new algorithms and processes will be able to better ascertain learning analytics such as student engagement, digital literacy, and off-task behavior, to list a few. The result: automatic, actionable analytics for teachers to assist students in achieving their full potential. This high-risk research will help to fill a void that exists in the ways teachers receive formative information about their students' online activity. Teachers are often blind to the actual online learning experience that is taking place. This project will bridge this gap and create instructional methods, online activities, and curriculum that finally realize the promise offered by technology.\n",
        "\n",
        "rgp: See [Learnics site](https://www.learnics.com/)."
      ]
    },
    {
      "cell_type": "markdown",
      "metadata": {
        "id": "InM00y1ZXJvq"
      },
      "source": [
        "[SBIR Phase I: Tablecraft, A Next Generation Introductory STEM Platform](https://www.nsf.gov/awardsearch/showAward?AWD_ID=1913907&HistoricalAwards=false)\n",
        "\n",
        "The project team will develop an immersive multiplayer virtual reality (VR) learning game for authentic classroom usage. The project will apply the advantages of a modular game design built around self-directed goals to test a classroom-management system built to allow an entire class of students to collaborate in or outside virtual reality. While immersed in individual 3D virtual environments, students will be able to join virtual spaces belonging to other students, in order to accomplish shared goals set by the teacher at a class level. The project also seeks to further the general field of learning games, by applying the Universal Design for Learning framework to its local goal of enhancing middle-schoolers' relationships to and content knowledge of STEM topics. This permits the project to be a test-bed for educational VR content design and interaction schemes. In Phase I research, the project team will examine whether students are able to understand how to play the game with minimal or no external help, whether teachers can integrate the product with their classroom environment, how large of a group a teacher can manage while keeping students on-task, whether student relationships to the subject matter change, and whether teachers and students see the fully realized product as a potentially effective learning tool.\n",
        "\n",
        "rgp: See [Tablecraft site](https://playtablecraft.com/).\n"
      ]
    },
    {
      "cell_type": "markdown",
      "metadata": {
        "id": "1YdJkBqZY9tb"
      },
      "source": [
        "[SBIR Phase I: Solving the 2 Sigma Problem to Bridge the Academic Achievement Gap in Community Colleges](https://www.nsf.gov/awardsearch/showAward?AWD_ID=1914395&HistoricalAwards=false)\n",
        "\n",
        "The proposed tutoring platform would help students catch up on poorly understood concepts as soon as they identify their learning deficiency by giving them the ability to ask questions directly to their instructor and get the immediate help they need before it's too late. The technical challenge resides in designing an intuitive, user-friendly remote tutoring platform that can achieve a high adoption rate among instructors and students in community colleges without any training. Many students have basic smartphones with limited memory and processing power. The solution needs to allow tutors to remotely communicate with students regardless of the quality of their connectivity. It also must convert technophobe instructors to contribute to the platform, as instructors' participation plays a critical role in the success of such a remote tutoring solution. The technology should also easily integrate with all existing information technology systems on campus and provide analytical capabilities to measure its impact on students' grades. Professors and student tutors will list modules online and schedule tutoring sessions that can take place synchronously or asynchronously. We will collect valuable chat/conversation data and then during phase II, apply Natural Language Processing, convert unstructured text into a structured format, and then apply machine learning algorithms to build a tutoring AI assistant that can be used for most disciplines.\n",
        "\n",
        "rgp: See [Tradepal site](https://www.tradepal.com/)."
      ]
    },
    {
      "cell_type": "markdown",
      "metadata": {
        "id": "G3tgc6NIblme"
      },
      "source": [
        "[SBIR Phase I: Computer Science for All with Spreadsheet Modeling: Researching How Low-Cost Video Training for STEM Teachers Leads to High-Value Programming Skills for Students](https://www.nsf.gov/awardsearch/showAward?AWD_ID=1913560&HistoricalAwards=false)\n",
        "\n",
        "This proposal will seek to develop, adapt, and assess the effectiveness of an inexpensive video-based demonstration and teacher training regimen that is intended to make delivering this instructional methodology to students happen quickly, efficiently and become self-sourcing by teachers from many different schools. This will be done by automating the training to keep cost to a minimum and maximize teacher time savings and the value added to the student instructional experience of computational modeling on a spreadsheet. For typical spreadsheet modeling objective students follow procedures employing numerical methods (such as slope of lines, areas of trapezoids, difference equations, Euler's Method) incrementally over large numbers of cells (102-104) to build a realistic mathematical model on a spreadsheet.\n",
        "\n",
        "From [website](http://www.spreadsheetlabmanual.com/benefits-of-membership.html):\n",
        "\n",
        "Each lesson is classroom ready and tested in real practice.  We save teachers time by delivering: (1) Lesson Plans, (2) NGSS Standards Alignment, (3) An introductory slide show to start each module, (4) A word document handout that guides students and offers assessment (5) The completed spreadsheet model that students will program, (6) A time-saving template that has column headings labeled but no formulas programmed.\n",
        "\n",
        "We supply all teachers at licensed schools with teaching resources and updates.\n",
        "\n",
        "Advantages for Licensed Schools \n",
        "\n",
        "We stand by our product 100% and if we find a way to improve it or add to it we want every one of our client schools to have it.\n",
        "Class time is valuable and so it prep time because we are teachers.\n",
        "Latest developments (New Modules, Project Applications, Shared Best Practices) are added and updates sent in the monthly SLM STEM Newsletter.\n",
        "\n",
        "Email Support for any/all teachers in SLM schools.\n",
        " We have kept our existing work current, most recently with NGSS aligned lesson plans so teachers save time and standards compliance is assured with subsequent updates to national standards requirements.\n",
        " \n",
        "Member teachers will have innovation opportunities as there is an infinite number of applications of spreadsheets.  \n",
        "\n",
        "Spreadsheet Lab Manual (SLM) lesson resources were developed and refined using student testing, teacher feedback and student data based improvements.  Assessments were then added to optimize the instructional time and enrich the modeling experience for students.​\n",
        "\n",
        "By joining our network you will be able to design and run your own PD sessions and teachers will gain proficiency and see the many possible applications and adaptations that this package will inspire in teachers.  When a school's starting point is the complete works of The Spreadsheet Lab Manual.\n",
        "\n",
        "...\n",
        "\n",
        "The SLM Methodology significantly upgrades quantitative modeling capability in High School Science.  This upgrade is thanks to the ease of programming and the calculating power of spreadsheets.  Now skills practiced on spreadsheets in school will help students prepare for their future careers.  \n",
        "\n",
        "We know that enhanced modeling capability on spreadsheets can also make quantitative learning interactive and highly engaging giving real meaning and relevance to all of the underlying mathematics.\n",
        "\n",
        "Joining the SLM resource network gives teachers everything they need to master educating their students with spreadsheet modeling as quickly and easily as possible and the applications that can be pursued by somebody with mastery in spreadsheet applications are limitless.   \n",
        "\n",
        "How?  Each lesson is classroom ready and tested in real practice.  We save teachers time by delivering: (1) Lesson Plans, (2) NGSS Standards Alignment, (3) An introductory slide show to start each module, (4) A word document handout that guides students and offers assessment (5) The completed spreadsheet model that students will program, (6) A time-saving template that has column headings labeled but no formulas programmed, \n",
        "We supply all teachers at licensed schools with teaching resources and updates.\n",
        "\n",
        "rgp: Contact form offers free subscription to teachers who want to be part of the NSF study.\n",
        "\n"
      ]
    },
    {
      "cell_type": "markdown",
      "metadata": {
        "id": "syFDXBeVqJQG"
      },
      "source": [
        "[SBIR Phase I: Collaboration, Creativity and Computational Thinking - A Cooperative Music Tinkering Game](https://www.nsf.gov/awardsearch/showAward?AWD_ID=1843894&HistoricalAwards=false)\n",
        "\n",
        "The core technical innovation of this project is the design and development methodology that will lead to the creation of a transformative learning platform in its approach to learning outcomes, collaborative problem solving, and engaging game play. This multi-user, multi-device experience relies on a new approach to collaborative problem solving, leveraging multiple user inputs responsive to group tinkering and debugging. Players must employ critical listening, tinkering, debugging, and communication to identify pieces of music that are off, and work collaboratively to adjust controllers to get the music back to its original state. This game not only requires problem solving across scales (debugging smaller parts of the puzzle to get to an overall solution) but also requires collaboration and communication, something largely missing in educational games for children. This phase will focus on the build of the digital component of the game as well as conduct research and development around physical controllers. Additionally, this phase of development will research the balance of visual, audio and haptic feedback mechanisms to help players through frustrating moments, foster player communication and collaboration, and test visual design for the most effective feedback.\n",
        "\n",
        "rgp: See [Makefully LLC](http://makefullystudios.com/)."
      ]
    },
    {
      "cell_type": "markdown",
      "metadata": {
        "id": "9ewqf_N4q5O9"
      },
      "source": [
        "[SBIR Phase I: Digital Loft--An online platform for innovation education](https://www.nsf.gov/awardsearch/showAward?AWD_ID=1843776&HistoricalAwards=false)\n",
        "\n",
        "This project develops a novel online project-based learning platform that helps instructors more effectively coach innovation project teams. The platform allows instructors to (a) create libraries of project goals to help students plan, (b) collaboratively author and remix design guides to help students develop technical skills, and (c) crowdsource large group, face-to-face critique to provide feedback on in-progress innovation work. The research and development in this project focus on overcoming the technical risks associated with creating the software libraries necessary to create new project-based learning platforms and supporting the complex computer-supported collaborative learning interactions necessary to achieve desired learning outcomes. By developing the technologies necessary to enable more effective project-based learning, this project will improve university education and create a more capable innovation workforce better able to tackle societal challenges.\n",
        "\n",
        "This SBIR Phase I project will conduct research and development of the Loft platform, which combines a novel project-based learning environment, social media platform, and software components to transform how universities train social innovators. Technical risks in this project stem from software engineering, learning sciences, and computer-supported cooperative work obstacles associated with creating novel software platforms to enable new pedagogical strategies that achieve more effective learning outcomes in project-based learning environments. Software libraries will include a more powerful and flexible set of components for creating complex object hierarchies and social media interfaces required for rapid development of the crowdsourcing and real-time collaborative editing features needed for online project-based learning platforms. The platform will introduce new computer-supported collaborative learning strategies, such as collaborative remixing of instructional content, technology-supported tailoring of instructional goals to individual project teams, and crowd critique to provide feedback as good or better than individual instructors. Research and development will test the impact of the platform on learning outcomes for innovation teams.\n",
        "\n",
        "rgp: See Forgeworks LLC???"
      ]
    },
    {
      "cell_type": "markdown",
      "metadata": {
        "id": "e6MEIUklt6eW"
      },
      "source": [
        "[SBIR Phase I: Positive Effects of Feedback and Intervention for Engagement in Online Learning](https://www.nsf.gov/awardsearch/showAward?AWD_ID=1843391&HistoricalAwards=false)\n",
        "\n",
        "Built upon foundational research in computational social science, the project will use specialized video and text chat tools to collect data from groups engaged in synchronous online learning, analyze and categorize patterns of communication, and give feedback to students to help them have better, more successful experiences online. In keeping with NSF's mission to promote the progress of science and advance national welfare, the project applies emerging innovations in artificial intelligence to the problem of delivering high-quality learning at scale. While most applications focus on individual learners and creating new personalized educational pathways, this project highlights the importance of collective learning and the power of peer engagement to help all members of a learning community reach their goals together.\n",
        "\n",
        "This project introduces several innovations in data capture and analytics, as well as feedback to learners while they are collaborating online. While many students use online collaboration tools such as discussion boards, chat, and video, this project focuses on providing interventions to change behavior in real-time. During conversations, such as those happening when people brainstorm to solve a problem or work on shared assignments, certain vocal patterns indicate engagement, reveal unstated agreements and discords, and expose individual biases. Using deep learning and data modeling, real-time feedback about conversational dominance is generated and shown to learners while they are speaking. The project further explores the effect of machine-generated insights about what happened during the collaboration, and makes recommendations about behavior modifications, based on predictive models. For more nuanced insights, these data are paired with facial-gestural data, such as nodding or raising one?s eyebrows. Together, these innovations combine data that has never been collected at scale before with social science data models uniquely applied to online learning. The goal of the research project is to prove that insights like these have a net positive effect on learning outcomes and raise the level of satisfaction with online learning experiences that incorporate these tools.\n",
        "\n",
        "rgp: See [Riff Learning](https://www.riffanalytics.ai/)"
      ]
    },
    {
      "cell_type": "markdown",
      "metadata": {
        "id": "Vip10htUuu0X"
      },
      "source": [
        "[SBIR Phase I: Positive Effects of Feedback and Intervention for Engagement in Online Learning](https://www.nsf.gov/awardsearch/showAward?AWD_ID=1844018&HistoricalAwards=false)\n",
        "\n",
        "This SBIR Phase I project will develop Virtual Reality (VR) based curriculum for first year university science courses. VR has the potential to create a step change in the way STEM education is taught and ultimately the way students learn. This project aims to build VR science curriculum to make science education more accessible, engaging and effective, and turn traditional STEM leavers into stayers which will positively impact STEM retention to meet the U.S. workforce demand. The VR science curriculum will be used alongside the existing curriculum at universities, with students participating in one 30-minute virtual lesson a week.\n",
        "\n",
        "rgp:  $25 per student per course.  See: [Sama](https://www.samalearning.net/)"
      ]
    },
    {
      "cell_type": "markdown",
      "metadata": {
        "id": "2Npt6UDawZxb"
      },
      "source": [
        "[SBIR Phase I: The Smart Study Recommendations Engine](https://www.nsf.gov/awardsearch/showAward?AWD_ID=1843409&HistoricalAwards=false)\n",
        "\n",
        "This SBIR Phase I project is focused on continued development of a software platform that is used by students for peer to peer homework and studying help. After school help has historically been delivered by tutors and homework hotlines but those avenues have been proven to be inadequate in closing learning gaps for students after they exit the classroom. The proposed technology is expected to further democratize homework and studying help. Being peer to peer, the proposed technology can radically shrink the cost of personalized homework and studying help for students at their own time and pace - especially the ones from economically or socially more challenged backgrounds. The project will also explore use of an innovative business model to optimize commercial viability with impacting a broad range of students irrespective of their backgrounds. It is expected that when fully developed, the technology would emerge as a scalable low-cost option to help improve student learning outcomes both nationally and globally.\n",
        "\n",
        "The key intellectual merit of this project is in the development of a Smart Study Recommendations Engine. \n",
        "\n",
        "rgp:  See [CircleIn](https://www.circleinapp.com/)"
      ]
    },
    {
      "cell_type": "markdown",
      "metadata": {
        "id": "akkj5EpAxDL5"
      },
      "source": [
        "[SBIR Phase I: Qalaxia: skill-aware query engine for K12 Classrooms](https://www.nsf.gov/awardsearch/showAward?AWD_ID=1843326&HistoricalAwards=false)\n",
        "\n",
        "This project develops new skill-aware AI technology that automatically maps student's raw queries into topics, sub-topics and intent. The technology considers the user skill-levels and automatically constructs an answer extracted from the most relevant educational resources, with highest preference given to teachers' own resources. The technology does something more if the detected topic falls under Algebra and the intent of the query is 'How do I solve this?' It generates, on-the-fly, additional scaffolding instructions for solving the problem. This approach extends to disciplines beyond Algebra. In addition, Phase I research leverages the latest advancements in Machine Learning, Natural Language Processing and Topic Detection to extract and track skill-levels, as well as strengths and weaknesses of students for teacher's benefit. Finally, the project will also demonstrate the efficacy of the technology in terms of queries made, relevant responses generated and its impact in terms of Algebra math outcomes.\n",
        "\n",
        "rgp: [A Carrot Inc](http://www.acarrot.com/) ~? "
      ]
    },
    {
      "cell_type": "markdown",
      "metadata": {
        "id": "r-vRH4QWX2Wv"
      },
      "source": [
        "[SBIR Phase I: The Curio Classroom: A Software Toolkit to Spark Engagement in STEM Through Hand-drawn Art and Tangible User Interfaces](https://www.nsf.gov/awardsearch/showAward?AWD_ID=1843530&HistoricalAwards=false)\n",
        "\n",
        "This SBIR Phase I project proposes the creation of a unique, art-centric e-learning platform aimed at sparking the interest of young learners in science, technology, engineering, and math (STEM). This extensible software platform implements a new category of e-learning based on the ample body of research in educational psychology and technology that advocates the use of art and guided play to teach STEM. This project will test the hypothesis that an e-learning system based on scientific illustration sparks engagement and enhances learning in young students. With students disengaging from STEM at an increasing rate, it is critical to make more tools available to teachers that connect student with STEM. STEM-related fields will drive innovation in our economy for decades to come; opening new pathways to vastly broaden participation in STEM is critical to our economic future. This project also proposes the creation of an online community and marketplace supporting STEM education through this platform. This will connect teacher-to-teacher for sharing best practices in teaching science using art and can make a deep and broad impact on the way STEM is taught.\n",
        "\n",
        "Built on scientific illustration and coupled with a set of tangible user interface (TUI) devices that mimic scientific instruments, this e-learning platform brings student hand-drawn art to life, creating interactive lessons that correlate to Next Generation Science Standards. As this system will be extensible and customizable, a major part of the R&D effort will be to create an easy-to-use templating toolkit that any teacher can leverage to develop custom lessons in STEM. The Phase I goal will be to create a fully functioning product and assess this system in elementary school classrooms. This toolkit will be developed in collaboration with Curio Interactive?s educational partners, as well as the Pacific Science Center, where Curio Interactive is a startup in residence, to rapidly develop this system, continuously iterating the software with real testers, following agile development methods. One of this project?s objectives is to appeal to groups historically underrepresented in STEM. Because this platform will be visual and kinetic, highly affordable, and universally available via the web, the proposed platform will improve the equity and accessibility of learning science.\n",
        "\n",
        "\n",
        "rgp: [Curio Interactive LLC](https://curiointeractive.com/)"
      ]
    },
    {
      "cell_type": "markdown",
      "metadata": {
        "id": "gjFB_vNEJw5X"
      },
      "source": [
        "[NSF Research News 2004](https://www.nsf.gov/discoveries/disc_summ.jsp?cntn_id=100732&org=NSF)"
      ]
    },
    {
      "cell_type": "markdown",
      "metadata": {
        "id": "sY356YFILGtA"
      },
      "source": [
        "[CRP 1999 Teacher Enhancement 9819579](https://www.nsf.gov/awardsearch/showAward?AWD_ID=9819579)"
      ]
    },
    {
      "cell_type": "markdown",
      "metadata": {
        "id": "fSAsO7ctI8iS"
      },
      "source": [
        "## Some prior HOU grants"
      ]
    },
    {
      "cell_type": "markdown",
      "metadata": {
        "id": "XqKDN-pmKYAA"
      },
      "source": [
        "[CRP 1992](https://www.nsf.gov/awardsearch/showAward?AWD_ID=9252915)"
      ]
    },
    {
      "cell_type": "markdown",
      "metadata": {
        "id": "Eb6E1lZvJBiA"
      },
      "source": [
        "[CRP 1996](https://www.nsf.gov/awardsearch/showAward?AWD_ID=9554161)"
      ]
    },
    {
      "cell_type": "markdown",
      "metadata": {
        "id": "TFcwl3jMJkYN"
      },
      "source": [
        "[CRP 1995](https://www.nsf.gov/awardsearch/showAward?AWD_ID=9552522)"
      ]
    },
    {
      "cell_type": "markdown",
      "metadata": {
        "id": "GPfFIp1TKnfL"
      },
      "source": [
        "[CRP 1999 Teacher Enhancement/Instructional Materials Development 9554161](https://www.nsf.gov/awardsearch/showAward?AWD_ID=9554161)"
      ]
    },
    {
      "cell_type": "markdown",
      "metadata": {
        "id": "t-sqVl8qIrV8"
      },
      "source": [
        "## Other Awards"
      ]
    },
    {
      "cell_type": "markdown",
      "metadata": {
        "id": "3uyMaNBYgK7C"
      },
      "source": [
        "[SciStarter 2.0: A Dashboard to Drive Research, Participation, and Community-building in Citizen Science\n",
        "Award Number:1516703; Principal Investigator:Darlene Cavalier; Co-Principal Investigator:Caren Cooper, Ira Bennett, Steve Gano; Organization:Arizona State University;NSF Organization:DRL Start Date:10/15/2015; Award Amount:$299,970.00; Relevance:83.81](https://nsf.gov/awardsearch/showAward?AWD_ID=1516703)\n",
        "\n",
        "Arizona State University will develop new features for its SciStarter website that will expand participation in citizen science and provide rich data for researching the nature of and impacts of citizen science participation. SciStarter is a popular online citizen science hotspot featuring more than 850 searchable citizen science projects, added by researchers and project owners, and serving over 35,000 citizen scientists. The project will develop new features to add to the current website that will enable participants to explore hundreds of citizen science projects and select projects of most interest to them, track their participation, and connect to people and projects they are interested in. The expanded website will also provide rich data that will help citizen science projects evaluate their programs and that will rich data for researchers to investigate the nature of citizen science participation. The website will be widely accessible to the public through partnerships with Discover Magazine, the Citizen Science Association, and other partners.\n",
        "\n"
      ]
    },
    {
      "cell_type": "markdown",
      "metadata": {
        "id": "8nd9nH9Vv3I7"
      },
      "source": [
        "[PIRE: GROWTH: Global Relay of Observatories Watching Transients Happen](https://www.nsf.gov/awardsearch/showAward?AWD_ID=1545949&HistoricalAwards=false)\n",
        "\n",
        "The GROWTH education program will train students and postdocs and encompass undergraduate course development, international internships, annual workshops and a research conference. GROWTH will thus help the US and international community prepare for the era of the Large Synoptic Survey Telescope (starting 2022), NSF's highest priority ground-based astronomy project for the next decade."
      ]
    },
    {
      "cell_type": "markdown",
      "metadata": {
        "id": "j7aO6SVMQJZ7"
      },
      "source": [
        "[Shapes, Cratering History, and Densities of the Largest Main-Belt Asteroids (F Marchis, PI)](https://www.nsf.gov/awardsearch/showAward?AWD_ID=1743015)\n",
        "\n",
        "These investigators have obtained telescope time to observe thirty-six large asteroids in the main asteroid belt with an instrument that will provide very high resolution observations of these asteroids. Their shapes, sizes, any moons that are present, and information about the asteroids' compositions will be uncovered. All of this information will give the investigators clues about how these multiple-asteroid systems formed and, further, how the major planets in our Solar System formed. This project serves the national interest by advancing our scientific understanding of how our Solar System formed and changed within its lifetime. The investigators will tell the story of their research to both students and the general public through undergraduate student research programs, press releases, and social media outlets. The PI will also develop movies for planetariums through the California Academy of Sciences.\n",
        "\n",
        "rgp: cited as source of funding by [Marchis et. al (2019)](https://reader.elsevier.com/reader/sd/pii/S0094576519312950?token=8F866D7E98A438F1AA88CBE95A7E16878B0CE5C3FE0D6B33EF5F8B86550F46A3616DD7A5122ADC0A3DB20B80F2762AF1)"
      ]
    },
    {
      "cell_type": "markdown",
      "metadata": {
        "id": "eIiReXktsyZB"
      },
      "source": [
        "[PIRE: Crafting Optimal Learning in Science Environments\n",
        "Award Number:1545684; Principal Investigator:Barbara Schneider; Co-Principal Investigator:Joseph Krajcik; Organization:Michigan State University;NSF Organization:OISE Start Date:09/15/2015; Award Amount:$3,795,860.00; Relevance:48.0;](https://www.nsf.gov/awardsearch/showAward?AWD_ID=1545684&HistoricalAwards=false)\n",
        "\n",
        "To capitalize on science activities in secondary chemistry and physics classrooms in the United States and Finland that have been shown through prior research to enhance engagement and learning, the project will create an instructional intervention which advances reforms in science education, specifically project based learning, and compares it with conventional science instructional techniques. Using both innovative single case study design and smartphone technology this research will test when students participate in the instructional intervention do they experience an increase in science relevance both for themselves and society and science learning? Working with teachers, four science units will be created and replicated over a three year period (with additional new schools, teachers, and students in each successive year). By the end of year three a larger field test will be conducted in which the intervention will be implemented in 40 classrooms in twenty treatment high schools affecting nearly 2,000 students representing diverse backgrounds (with matched control populations). The conduct of this work, from its design to implementation, will be jointly undertaken in Finnish schools with similarly aged students.\n"
      ]
    },
    {
      "cell_type": "markdown",
      "metadata": {
        "id": "6J6kmbIZWOcI"
      },
      "source": [
        "## Existing Portals, Each to Numerous Astronomy Resources, Including Curricula\n",
        "\n",
        "(pretty much the same as Portals bookmark)\n"
      ]
    },
    {
      "cell_type": "markdown",
      "metadata": {
        "id": "ua7kYPe-cbPt"
      },
      "source": [
        "[AAS Resources for Educators](https://aas.org/education/EducatorResources)\n",
        "\n",
        "[Amazing Space](http://amazingspace.org/) Curricula including Hubble and, eventualy, Webb space telescope images.\n",
        "\n",
        "[AMNH Plaetarium Digital Universe](https://www.amnh.org/research/hayden-planetarium/digital-universe)\n",
        "\n",
        "[AMNH Internet Resources for Astronomy and Science Education](http://research.amnh.org/~cliu/educres.html)\n",
        "\n",
        "[ASP Education and Outreach Resource Guides](https://astrosociety.org/education-outreach/education-resources.html) Includes links to Fingertips and Collections \n",
        "\n",
        "[ASP Collections of Astronomy Activities on the Web](https://astrosociety.org/education-outreach/resource-guides/collections-of-astronomy-activities-on-the-web.html)  List of 29 lists of activities, besides [Universe at Your Fingertips](https://myasp.astrosociety.org/products/DV122/theuniverseatyourfingertips20dvdrom) Compiled by Andrew Fraknoi. \"Just a sampling to get you started\" (2019)\n",
        "\n",
        "\n",
        "[ASP Universe at Your Fingertips 2.0 (2017)](https://myasp.astrosociety.org/products/DV122/theuniverseatyourfingertips20dvdrom) List of 133 activities on DVD-ROM. I don't see a lot of data analysis listsed in the TOC, but they do provide extensive teacher guides.\n",
        "\n",
        "\n",
        "[AstroEdu](https://astroedu.iau.org/en/) \" Peer-reviewed astronomy education activities.\"  Nice, but aimed mainly at pre-high school students. Some LCO input.\n",
        "\n",
        "[AstroWeb: Astronomy Education Resources (2010)](http://cdsweb.u-strasbg.fr/astroWeb/astroweb/education.html)\n",
        "\n",
        "[AURA (2010)](http://legacy.aura-astronomy.org/resources.asp)\n",
        "\n",
        "[Center for Astronomy Education (NASA/JPL)](https://astronomy101.jpl.nasa.gov/)  Lots of curriculuar materials including questions, exams, syllibi. Astrolrner@CAE Yahoo Group looks stale.\n",
        "\n",
        "\n",
        "[ESA Educational Support](https://sci.esa.int/web/education) Latest update 5 July 2017.\n",
        "\n",
        "[ESA/ESO exercises](https://www.astroex.org/)\n",
        "\n",
        "[European Association for Astronomy Education](https://www.eaae-astronomy.org/projects)\n",
        "\n",
        "[Fraknoi, Exploring the Universe, Resource Guides for Astronomy and Astronomy Education (2017)](http://www.fraknoi.com/resource-guides-on-astronomy-education/)\n",
        "\n",
        "[Global Hands-On Universe](http://handsonuniverse.org/projects/)\n",
        "\n",
        "[Global Telescope Network](https://gtn.sonoma.edu/)\n",
        "\n",
        "[Go-Labs](https://www.golabz.eu/)\n",
        "\n",
        "[GTTP](http://galileoteachers.org/resources/inspiring-science-education/)\n",
        "\n",
        "[Herr, Sourcebook for Teaching Science, Resources for Teaching Astronomy (2007?)](http://www.csun.edu/science/geoscience/astronomy/)\n",
        "\n",
        "[Hubble Space telescope educational material](https://www.spacetelescope.org/kidsandteachers/education/)\n",
        "\n",
        "[Las Cumbres Observatory](https://lco.global/education/partners/)\n",
        "\n",
        "[NASA education materials](https://www.nasa.gov/education/materials/)\n",
        "\n",
        "[NASA Universe of Learning](https://media.universe-of-learning.org/documents/girlsSTEAM-Exoplanet-ResourceGuide.pdf)\n",
        "\n",
        "[NASA Hubblesite Learning Resources](https://hubblesite.org/resource-gallery/learning-resources)\n",
        "\n",
        "[NASA/MSU-Bozeman CERES Project](https://btc.montana.edu/ceres/default.htm)\n",
        "\n",
        "[Next-Lab](https://nextlab.golabz.eu/)\n",
        "\n",
        "\n",
        "[NSF list of astronomy and astrophysics classroom resources](https://www.nsf.gov/news/classroom/astronomy.jsp)\n",
        "\n",
        "[PhysLink, Astronomy Education Resources](https://www.physlink.com/education/astronomy.cfm)\n",
        "\n",
        "[SDSS Education and Public Engagement](https://www.sdss.org/education/)\n",
        "\n",
        "[SciServer](https://www.sciserver.org/outreach/)\n",
        "\n",
        "[SDSSEPO amazing Jupyter notebook](https://github.com/ritatojeiro/SDSSEPO)\n",
        "\n",
        "[Sky and Telescope Astronomy Education Links (2006)](https://www.skyandtelescope.com/online-resources/astronomy-education-links/)\n",
        "\n",
        "[Society of Amateur Radio Astronomers](http://www.radio-astronomy.org/node/296)\n",
        "\n",
        "[Teach Astronomy (moribund?)](https://www.teachastronomy.com/)\n",
        " \n",
        " \n",
        "[Universe in the Classroom, Wales UK (2018)](https://www.universe.wales/)\n",
        "\n",
        "[University of Hawaii (2001)](http://www.ifa.hawaii.edu/tops/resources.html)\n",
        "\n",
        "[ASTRONOMY TEACHING & EDUCATION RESOURCES (to 2014)](http://webhome.phy.duke.edu/~kolena/astroteach.html)\n",
        "\n",
        "[IAU Office of Astronomy for Development](http://www.astro4dev.org/resources/)\n",
        "\n",
        "[Astronomy Teacher](http://www.astronomyteacher.com/astronomyteachercom/astronomy-education-resourc.html)\n",
        "\n",
        "[McDonald Observatory, Univeristy of Texas, Austin](http://outreach.as.utexas.edu/marykay/highschool/hs.html)\n",
        "\n",
        "[Humbolt University Library](http://libguides.humboldt.edu/openedu/phyx)\n",
        "\n",
        "https://www.loc.gov/rr/scitech/selected-internet/astronomy-selected.html\n",
        "\n",
        "https://cass.ucsd.edu/archive/public/astroed2.html\n",
        "\n",
        "http://www.istl.org/02-spring/internet2.html\n",
        "\n",
        "https://www.commonsense.org/education/top-picks/best-astronomy-apps-and-websites-for-students\n",
        "\n",
        "https://www.spacescience.org/educationresources.php\n",
        "\n",
        "https://www.noao.edu/education/more.php\n",
        "\n",
        "https://www.astronomydad.com/education-resources.html\n",
        "\n",
        "https://www.astrobetter.com/wiki/Astro+101+Resources\n",
        "\n",
        "http://www.astronomynotes.com/astrlink.htm\n",
        "\n",
        "http://www.griffithobservatory.org/school/pdf/AstronomyLinks.pdf\n",
        "\n",
        "https://www.astroasheville.org/astronomy-resources/\n",
        "\n",
        "https://www.atnf.csiro.au/people/Robert.Hollow/astroed.html\n",
        "\n",
        "https://asppublications.org/education/educational-resources/\n",
        "\n",
        "http://mcdonaldobservatory.org/teachers/classroom\n",
        "\n",
        "http://curious.astro.cornell.edu/astronomy-links\n",
        "\n",
        "http://umich.edu/~lowbrows/links/\n",
        "\n",
        "https://www.lpi.usra.edu/education/resources/s_system/s_system.shtml\n",
        "\n",
        "\n",
        "https://www.inclusive-astronomy.org/resources\n",
        "\n",
        "http://www.astro.indiana.edu/links.shtml\n",
        "\n",
        "https://www.starrynighteducation.com/resources_free.html\n",
        "\n",
        "https://sites.williams.edu/jmp/astronomy-resources/\n",
        "\n",
        "\n"
      ]
    },
    {
      "cell_type": "markdown",
      "metadata": {
        "id": "bck6_2zb3ltN"
      },
      "source": [
        "## Some Notable Sources of Astrophysical Data and/or Research-Quality Images"
      ]
    },
    {
      "cell_type": "markdown",
      "metadata": {
        "id": "uz9UGMKb3vpf"
      },
      "source": [
        "### List\n",
        "\n",
        "(pretty much the same as Data bookmark)\n",
        "\n",
        "[AAVSO Data Page](https://www.aavso.org/main-data)\n",
        "\n",
        "[European Virtual Observatory (EUROVO)](http://www.euro-vo.org/)\n",
        "\n",
        "[Gaia (ESA)](https://www.cosmos.esa.int/web/gaia)\n",
        "\n",
        "\n",
        "[Google Sky](https://www.google.com/sky/about.html)\n",
        "\n",
        "[International Virtual Observatory Alliance (IVOA)](http://ivoa.net/)\n",
        "\n",
        "[Large Synoptic Survey Telescope (LSST)](https://www.lsst.org/about/epo/links)\n",
        "\n",
        "[LCOGT Science Archive](https://archive.lco.global/?q=a&RLEVEL=&PROPID=&INSTRUME=&OBJECT=&SITEID=&TELID=&FILTER=&OBSTYPE=&EXPTIME=&BLKUID=&REQNUM=&basename=&start=2019-06-01%2000%3A00&end=2019-12-02%2023%3A59&id=&public=true)\n",
        "\n",
        "[Milkulsky Archive for Space Telescopes (MAST)](https://archive.stsci.edu/)\n",
        "\n",
        "[NASA Astronomical Virtual Observatories (NAVO)](https://heasarc.gsfc.nasa.gov/vo/summary/navo_intro.html)\n",
        "\n",
        "[NASA/IPAC Infrared Science Archive (IRSA)](https://science.nasa.gov/astrophysics/astrophysics-data-centers/nasa-ipac-infrared-science-archive/)\n",
        "\n",
        "[NSSDCA meta-database](https://nssdc.gsfc.nasa.gov/astro/)\n",
        "\n",
        "[Pan-STARRS1 Data Archive](https://panstarrs.stsci.edu/)\n",
        "\n",
        "[SDSS Portal to all data](https://dr16.sdss.org/)\n",
        "\n",
        "[SDSS SkyServer](http://skyserver.sdss.org/dr16/en/home.aspx)\n",
        "\n",
        "[SDSS Voyages](https://voyages.sdss.org/)\n",
        "\n",
        "[Sloan Digital Sky Survey (SDSS)](https://www.sdss.org/)\n",
        "\n",
        "[Spitzer Space Telescope (JPL)](http://www.spitzer.caltech.edu/)\n",
        "\n",
        "[US Virtual Observatory Alliance (USVOA)](https://hea-www.cfa.harvard.edu/USVOA/)\n",
        "\n",
        "[WISeREP](https://wiserep.weizmann.ac.il/)\n",
        "\n",
        "\n",
        "\n",
        "\n",
        "\n"
      ]
    },
    {
      "cell_type": "markdown",
      "metadata": {
        "id": "JGPcFhbX_PUL"
      },
      "source": [
        "## Student/Teacher-Controllable Telescopes"
      ]
    },
    {
      "cell_type": "markdown",
      "metadata": {
        "id": "QnbjU93I_ZRc"
      },
      "source": [
        "### List of facilities\n",
        "\n",
        "[Faulkes Telescope Project](http://www.faulkes-telescope.com/)  (education partner of LCO.  EU teachers only?)\n",
        "\n",
        "[Las Cumbres Observatory](https://lco.global/)\n",
        "\n",
        "eVScopes at participating Schools and Partners (planned?)\n",
        "\n",
        "[Bareket Observatory](http://www.bareket-astro.com/en) (how?)\n",
        "\n",
        "[NASA Night Sky Network](https://nightsky.jpl.nasa.gov/index.cfm) (in partnership with Astronomical Society of the Pacific)\n",
        "\n",
        "[Harvard-Smithsonian MicroObservatory Robotic Telescope Network](https://mo-www.cfa.harvard.edu/MicroObservatory/)\n"
      ]
    },
    {
      "cell_type": "markdown",
      "metadata": {
        "id": "GNXOdJ3YoQJk"
      },
      "source": [
        "## Websites Defintely Mediating Student Aquisition and/or Analysis of Astrophotometric Data\n"
      ]
    },
    {
      "cell_type": "markdown",
      "metadata": {
        "id": "XwVwUGClGiNm"
      },
      "source": [
        "### [Caltech GROWTH](http://growth.caltech.edu/growth-astro-school-2018-resources.html)\n",
        "\n",
        "Programs for undergraduates and higher.\n",
        "\n",
        "See also, [grant](https://www.nsf.gov/awardsearch/showAward?AWD_ID=1545949&HistoricalAwards=false), below."
      ]
    },
    {
      "cell_type": "markdown",
      "metadata": {
        "id": "3FqIxyYB_lIO"
      },
      "source": [
        "### [IASC](http://iasc.cosmosearch.org/)\n",
        "\n",
        "GHOU-affiliated\n",
        "\n",
        "access only to LCO?\n",
        "\n",
        "mainly (only?) asteroid detection?\n",
        "\n",
        "\n"
      ]
    },
    {
      "cell_type": "markdown",
      "metadata": {
        "id": "ZcyJZLFnlLJh"
      },
      "source": [
        "###[Institute for Student Astronomical Research](https://www.in4star.org/) \n",
        "\n",
        "Really need to talk to these folks, esp. Rachel Freed!\n",
        "\n",
        "See also: [Journal of Double Star Observations](http://www.jdso.org/)"
      ]
    },
    {
      "cell_type": "markdown",
      "metadata": {
        "id": "EQns_9ZR1LbT"
      },
      "source": [
        "### [Laboratory for the Study of Exoplanets](https://www.cfa.harvard.edu/smgphp/otherworlds/ExoLab/teachers/teachers.html)\n",
        "\n",
        "Harvard-Smithsonian Center for Astrophysics (2013)\n",
        "Looks pretty cool. No standards alignment.\n",
        "No machine learning. Signed up as rpiccioni@marin.edu.\n",
        "\n",
        "From into activity: \n",
        "\"Welcome students to the community of planet hunters. Let them know they will be making  their own observations of recently discovered extrasolar planets, using a robotic telescope owned by the Harvard Smithsonian Center for Astrophysics, and located at the Center’s  Whipple Observatory in Arizona. The ExoLab website was designed by scientists and educators  at the Center for Astrophysics, to provide students with access to the same kinds of  instrumentation and analysis tools that the professionals use in this cutting edge field of  science. The students’ goal is to see if they can first, detect the signal of a planet in their  observed star system, and then analyze the signal to draw evidence-based conclusions about  the planet’s size, distance from its star, and orbital tilt.\"\n"
      ]
    },
    {
      "cell_type": "markdown",
      "metadata": {
        "id": "qFTWBrnCi-bU"
      },
      "source": [
        "###[NASA/JPL Exoplanet Watch](https://exoplanets.nasa.gov/exoplanet-watch/)\n",
        "\n",
        "scheduled to officially launch in Summer 2020\n",
        "\n",
        "rgp volunteered to do beta testing of EXOTIC software (rpiccioni@marin.edu)\n",
        "\n"
      ]
    },
    {
      "cell_type": "markdown",
      "metadata": {
        "id": "EWLZbGBfn1qQ"
      },
      "source": [
        "\n",
        "### [NASA/MSU-Bozeman CERES Project activity: A Case of the Wobbles: Finding Extra-Solar Planets](https://btc.montana.edu/ceres/html/Wobble/Wobbles.htm)\n",
        "\n",
        "Includes alignment with standards but no (?) embedded assessments. The CERES Project was initiated in 1997.  The development team included five 9-12 teachers."
      ]
    },
    {
      "cell_type": "markdown",
      "metadata": {
        "id": "ivXivSz6dDKz"
      },
      "source": [
        "### [NASA/MSU-Bozeman CERES Project activity: Searching for Protoplanetary Disks](https://btc.montana.edu/ceres/html/Disks/disks1.html)\n",
        "\n",
        "See \"Wobbles\", above."
      ]
    },
    {
      "cell_type": "markdown",
      "metadata": {
        "id": "vX5C6cSGqsQX"
      },
      "source": [
        "From Wolf et al (2018)\n",
        "\n",
        "http://www.esa.int/Education\n",
        "\n",
        "http://hubblesite.org/\n",
        "\n",
        "http://voyages.sdss.org/\n",
        "\n",
        "https://jwst.nasa.gov/teachers.html\n",
        "\n",
        "https://www.lsst.org/about/epo\n",
        "\n",
        "https://www.zooniverse.org/\n",
        "\n",
        "https://wfirst.gsfc.nasa.gov/science/\n",
        "\n"
      ]
    },
    {
      "cell_type": "markdown",
      "metadata": {
        "id": "b1915fZ8hD10"
      },
      "source": [
        "###[Robotic Telescopes Student Research and Education (RTSRE)  Conferences, 2018 & 2019](https://rtsre.net/)\n",
        "\n",
        "Michael Fitzgerald et al.\n",
        "\n",
        "[OSS pipeline](https://www.oursolarsiblings.com/the-our-solar-siblings-pipeline-oss-pipeline/)"
      ]
    },
    {
      "cell_type": "markdown",
      "metadata": {
        "id": "ITX_QQKps1u_"
      },
      "source": [
        "###[SDSS Education and Public Engagement](https://www.sdss.org/education/)\n",
        "\n",
        "[SDSS Voyages](https://voyages.sdss.org/for-educators/ground-control/)\n",
        "\n",
        "\"Activities and research experiences for students, built on data from the Sloan Digital Sky Survey. Our materials empower students to explore a wide variety of astronomical concepts, from asteroids in our own Solar System to the most distant quasars ever observed, using the same high-quality data employed by professional astronomers.\" \n",
        "\n",
        "[Color-magnitude diagrams](http://voyages.sdss.org/expeditions/expedition-to-the-milky-way/star-clusters/hr-diagrams/)\n",
        "\n",
        "[How to Find Asteroids](http://voyages.sdss.org/for-educators/ground-control/teacher-guides/teacher-guides-launch/asteroids-teacher-notes/specifics/) seems incomplete.\n",
        "\n",
        "[Early announcement at 29th GAIAU (2015)](https://blog.sdss.org/2015/07/31/sdss-at-the-29th-general-assembly-of-the-international-astronomical-union/)\n",
        "\n",
        "Replaces [these older materials](http://skyserver.sdss.org/dr1/en/proj/advanced/hr/)?\n",
        "\n",
        "[SDSS Undergraduate-Level Materials (SciServer)](https://www.sciserver.org/outreach/)"
      ]
    },
    {
      "cell_type": "markdown",
      "metadata": {
        "id": "Xcdw-M4IDW8Q"
      },
      "source": [
        "## Websites That *Might* be Mediating Student Aquisition and/or Analysis of Astrophotometric Data\n"
      ]
    },
    {
      "cell_type": "markdown",
      "metadata": {
        "id": "y4Q-4Pyvx4-q"
      },
      "source": [
        "###[AAVSO](https://www.aavso.org/outreach)\n",
        "\n",
        "[Student Observation Projects](https://www.aavso.org/student-observation-projects)\n",
        "\n",
        "\n"
      ]
    },
    {
      "cell_type": "markdown",
      "metadata": {
        "id": "f43VLDj2tDUR"
      },
      "source": [
        "### [ESO educational materials](https://www.eso.org/public/products/education/) defunct?"
      ]
    },
    {
      "cell_type": "markdown",
      "metadata": {
        "id": "lMrVZsaYwHYu"
      },
      "source": [
        "### [EVO for education](http://vo-for-education.oats.inaf.it/index_eng.html?fsize=medium) (d. 2018?)\n"
      ]
    },
    {
      "cell_type": "markdown",
      "metadata": {
        "id": "SsHAWFtknqvb"
      },
      "source": [
        "### [Frew et al. (2013) K 1-6: An Asymmetric Planetary Nebula with a Binary Central Star](https://www.cambridge.org/core/journals/publications-of-the-astronomical-society-of-australia/article/k-16-an-asymmetric-planetary-nebula-with-a-binary-central-star/4B435311BBCDD43E9D5CFC353BF7B3D4)\n",
        "\n",
        "The observations and data analyses reported in this paper were conducted in conjunction with Year 11 high school students as part of an Australian Research Council Linkage Grant science education project, denoted ***Space To Grow***, conducted jointly by professional astronomers, educational researchers, teachers, and high-school students.\n",
        "\n",
        "Still active? [Doesn't look like it](https://physics.mq.edu.au/astronomy/space2grow/).  Ask Carl.  Michael Fitzgerald a co-author."
      ]
    },
    {
      "cell_type": "markdown",
      "metadata": {
        "id": "mTkLz-Q5A-HQ"
      },
      "source": [
        "###[Global Telescope Network](https://scistarter.org/global-telescope-network)  Using small telescopes around the world, Global Telescope Network members observe and analyze astronomical objects related to the NASA Fermi Gamma-ray Space Telescope (formerly GLAST), Swift, and XMM-Newton missions."
      ]
    },
    {
      "cell_type": "markdown",
      "metadata": {
        "id": "f1VmcnZU09Ab"
      },
      "source": [
        "### [NASA Citizen Science Page](https://science.nasa.gov/citizenscience)\n",
        "\n",
        "mainly (all?)  Zooniverse;\n"
      ]
    },
    {
      "cell_type": "markdown",
      "metadata": {
        "id": "5oLlmpWLRYI0"
      },
      "source": [
        "###[Planet Hunters TESS](https://www.zooniverse.org/projects/nora-dot-eisner/planet-hunters-tess)"
      ]
    },
    {
      "cell_type": "markdown",
      "metadata": {
        "id": "-T-yIiTYkXDG"
      },
      "source": [
        "###[SDSSEPO Amazing Juypter notebook](https://github.com/ritatojeiro/SDSSEPO)\n",
        "But seems to be using a deprecated command, preventing re-run of the notebook."
      ]
    },
    {
      "cell_type": "markdown",
      "metadata": {
        "id": "LA2FqHIPuJHX"
      },
      "source": [
        "### [SETI@home](https://setiathome.berkeley.edu/)\n"
      ]
    },
    {
      "cell_type": "markdown",
      "metadata": {
        "id": "1Eoajf440qaI"
      },
      "source": [
        "###[WISE](http://wise.ssl.berkeley.edu/index.html)"
      ]
    },
    {
      "cell_type": "markdown",
      "metadata": {
        "id": "xpOtGUJR0Q0Q"
      },
      "source": [
        "## Random Ideas"
      ]
    },
    {
      "cell_type": "markdown",
      "metadata": {
        "id": "o8k9tSilP7JR"
      },
      "source": [
        "Deliver via EdX (Or ?): Complete on-line, highly-interactive materials that fully replace an astronomy textbook; charge $5-10  per student-year; on-line teacher training, on-line student training, and connections to a broader community of student and teacher astronomers; and/or on-Line Modeling Astronomy Teacher course.\n",
        "\n",
        "Business model to explore: Unless students improve along some axes (conceptual thinking gain, achievemet on test items, interest in STEM careers, or group work skills increase, Computational Thinking increase), say 20% or so, schools do not have to pay for subscriptions.  This in some ways shows a regrettable situation in education -- not that many people know how to make kids simulataneously smarter, more inspired, and better workers of the future.\n",
        "\n",
        "Early course activity and continuing through the course: Students begin Python programming in Jupyter Notebooks, and anayze images with Python.\n",
        "\n",
        "Produce real-time, non-invasive and fun embedded assessments so students' learning can be monitored and the students automatically coached, as needed. That is, if we see that they cannot do ratios or proportional reasoning, we get them to do an HOU unit with pixels and scales, and retest. If they believe that the moon phases are caused by eclipses, we help guide them to a better model..\n",
        "\n",
        "Produce a newsletter\n",
        "\n",
        "Curate existing curricula\n",
        "\n",
        "Offer better curricula\n",
        "\n",
        "Focus on reasoning and analysis of research-grade data to arrive at novel (if minor) conclusions about the world\n",
        "\n",
        "Design and pilot EvScope loaner program\n",
        "\n",
        "Connect schools with local astronomy resources\n",
        "\n",
        "Offer discounted and curated LCO access\n",
        "\n",
        "Coordinate multi-school activities\n",
        "\n",
        "Formally adopt an [\"agile\" business model](https://hbr.org/2016/05/embracing-agile) (but note that the PI here *is* an end user, so feedback from at least one product user will be instantaneous)\n",
        "\n",
        "Course-takers are assigned to one of several coaches who have office hours or respond asynchronously to questions.\n",
        "\n",
        "\n",
        "\n"
      ]
    },
    {
      "cell_type": "markdown",
      "metadata": {
        "id": "W1uBLNhpbJrl"
      },
      "source": [
        "## Discarded gems of rhetorical brilliance\n"
      ]
    },
    {
      "cell_type": "markdown",
      "metadata": {
        "id": "lkP1UoeiJCFX"
      },
      "source": [
        "It is anticipated that educational institutions would be willing and able pay for a software/course package that helps their teachers achieve those goals.\n",
        "\n",
        "Perhaps teachers are unconvinced of the potential benefits to their students, especially in terms of NGSS- and Common Core-aligned proficiencies. Perhaps it is simply that most teachers have very little time to develop curricula *de novo*, even curricula they expect would be of benefit to many of their students. \n",
        "\n",
        "Some agencies, research programs and academic institutions have developed curricula that guide students and their teachers through the process of exploration and analysis of research-grade data and images; however, coverage of available data- and image-sets is far from comprehensive and largely unsystematic.  Presumably this is because each curriculum was developed independently without a great deal of input from the relevant educational community.  Alignment with Common Core and/or NGSS standards tends to be perfunctory and unverified.  Teacher feedback mechanisms are limited.\n",
        "\n",
        "The proposed product will provide teachers and students a clear path to success in using astronomy for their central scientific. computational, and technical learning. In particular, the system will: 1) monitor comprehensively and deliver the universe of Global HOU and other web-accessible resources useful to teachers of astronomy and astrophysics; 2) classify those resources based on topic, NGSS-alignment, required level of student preparation and time-to-complete; and 3) present student/teacher subscribers with a curated menu of options from which they can confidently make informed choices as to which resource(s) to use in their classrooms.  Each resource would be represented to teacher subscribers as a distinct module described in a way that is consistent from module to module.    These materials may be carried on EdX, for example.\n"
      ]
    },
    {
      "cell_type": "markdown",
      "metadata": {
        "id": "anDpve7PIu40"
      },
      "source": [
        "Up until now, the diverse nature of the knowledge base upon which the proposed system will draw, and/or its rate of growth, have precluded a manageable solution of the type envisioned.  But recent advances in natural language processing and other applications of machine learning may make such solutions attainable.  A repeated cycle of design, protoyping and testing, incrementally approaching the goal of a comprehensive and useful system, will certainly be required."
      ]
    },
    {
      "cell_type": "markdown",
      "metadata": {
        "id": "dOrwjTVPULa1"
      },
      "source": [
        "The proposed technological innovation will address an important instance of a general problem facing STEM educators and their students: How to benefit from the explosive growth of science and technology without becoming lost, overwhelmed and ultimately discouraged by the sheer enormity of resources now available.  Current advances, for example, in the fields of astronomy and astrophysics, have yielded a vast and rapidly-expanding inventory of websites, each providing access to lesson plans, numerical data, images and/or remotely-controllable research-grade telescopes from which even more data and images can be obtained.  But teachers, unless they are experts in the field, simply lack the time to sort through even a small fraction of the resources they can access.  As a result, there is little reason for them to feel confident that the choices they make are optimal, given their students’ level of preparation and the course schedule.  The same can be said for teachers who want to expose their students to current research in other fields, such as neurobiology, biotechnology and materials science.\n"
      ]
    },
    {
      "cell_type": "markdown",
      "metadata": {
        "id": "d-MWfCh4BqQ_"
      },
      "source": [
        ", building a model to be tested against an annotated test dataset, using standard ML methodologies"
      ]
    },
    {
      "cell_type": "markdown",
      "metadata": {
        "id": "1Lmp2FxfBCDt"
      },
      "source": [
        "In the intial phases, a training dataset of HOU and other web-based astronomy resources will be compiled, stabilized. \n",
        "\n"
      ]
    },
    {
      "cell_type": "markdown",
      "metadata": {
        "id": "8Vt8CtESGe3z"
      },
      "source": [
        "Many powerful teacher-facing and student-facing resources now exist, resources whose efficacy has been demonstrated along several axes of merit, but which remain underutilized:\n",
        "\n",
        "1) Well-developed constructivist pedagogies, such as Modelling Instruction (MI), which raise students' sense of self-efficacy, improve their attitudes toward science, improve scores of standardized tests and enhance student interest in STEM careers;\n",
        "\n",
        "2) Vast scientific datasets which, along with ordinary classroom computers and free software, allow students to make their own discoveries and contribute to our understanding of the universe;\n",
        "\n",
        "3) Curricula, developed and tested by NSF-supported programs such as Hands-On Universe (HOU) and its international counterpart, Global Hands-On Universe (GHOU), that bring students in contact with research-quality images and allow teachers to bring scientific inquiry into their classrooms. Multiple post-course evaluations indicate that students prefer HOU-type astronomy to other types of science courses, and that, after taking an HOU course, are more inclined to choose careers in STEM.\n",
        "\n"
      ]
    },
    {
      "cell_type": "markdown",
      "metadata": {
        "id": "O_PIVM_CT4WP"
      },
      "source": [
        "After decades of educational research and developments, no one system has been proposed that can scale to a large number of students and teachers and can prove: 1) student gains in conceptual understanding; 2) improved test scores on standard assessments; 3) greater interest in majoring in STEM fields; 4) enhanced computational thinking; 5) improved ability to work in groups. This is arguably a major defect in global science and technical education, and we propose a pilot system in one discipline, namely space science/astronomy (NGSS Core Idea ESS1 Earth's Place in the Universe), that will demonstrate such gains.\n",
        "\n",
        "\n",
        "\n",
        "\n",
        "\n",
        "\n",
        "\n",
        "\n",
        "\n",
        " \n",
        "\n"
      ]
    },
    {
      "cell_type": "markdown",
      "metadata": {
        "id": "PQEVGzb_Km8z"
      },
      "source": [
        "Processing of hits to extract basic information (type of resource, resource topic, target audience, etc.) will also be attempted and the results compared with extracts produced manually. A practical lesson-planning interface will also be designed, prototyped and tested for its ability to represent the content of a wide range of resources to teachers who are creating their own suite of modules, one that aligns with the needs of their students, the course schedule and applicable NGSS standards. A key component of the proposed work will be the development of a viable business model that aligns operational costs with affordable per-teacher subscription fees."
      ]
    },
    {
      "cell_type": "markdown",
      "metadata": {
        "id": "dQyUiUaTaqKV"
      },
      "source": [
        "\n",
        "large bodies of currently disconnected and uncontexutalized technical, scientific, and educational resources.\n"
      ]
    },
    {
      "cell_type": "code",
      "metadata": {
        "id": "U12ENlpRNj13"
      },
      "source": [
        "for x in range(100):\n",
        "  print(\"Please give us Phase I funding!\")"
      ],
      "execution_count": null,
      "outputs": []
    },
    {
      "cell_type": "markdown",
      "metadata": {
        "id": "rUZH7BRtbsZW"
      },
      "source": [
        "The proposed system is not just intended to help astronomy teachers teach astronomy. They are already doing a great job of that. Rather, the proposed system is intended to help math and general science teachers enhance the mathematical, computational and scientific reasoning self-efficacy of their students."
      ]
    },
    {
      "cell_type": "markdown",
      "metadata": {
        "id": "4KFm38quWwbx"
      },
      "source": [
        "# Unsuccessful 2019 NSF/SBIR Pitch"
      ]
    },
    {
      "cell_type": "markdown",
      "metadata": {
        "id": "wBz6TAHlS-na"
      },
      "source": [
        "## Early Draft of SBIR Project Pitch\n"
      ]
    },
    {
      "cell_type": "markdown",
      "metadata": {
        "id": "Qyu6JozcTEen"
      },
      "source": [
        "### 1. The Technology Innovation. (Up to 500 words)\n",
        "*Describe the technical innovation that would be the focus of a Phase I project, including a brief discussion of the origins of the innovation as well as explanation as to why it meets the program’s mandate to focus on supporting research and development (R&D) of unproven, high-impact innovations. Research and development supported by the NSF’s program can be:\n",
        "A systematic, intensive study directed toward greater knowledge or understanding of the subject studied;\n",
        "A systematic study directed specifically toward applying new knowledge to meet a recognized need; or\n",
        "A systematic application of knowledge toward the production of useful materials, devices, and systems or methods, including design, development, and improvement of prototypes and new processes to meet specific requirements.*"
      ]
    },
    {
      "cell_type": "markdown",
      "metadata": {
        "id": "p3CZGnh_JnAc"
      },
      "source": [
        "The technological innovation that will be the focus of this project comprises a suite of automated and semi-automated components, collectively named RESCUES (for RESource CUration and Evaluation Service).  The core of RESCUES will be a curated portal that facilitates access to resources, including especially large scientific datasets, lowering the barriers now confronting high school and two-year college teachers who want to engage their students in exploration and analysis of authentic scientific data.\n",
        "\n",
        "Through optimal leveraging of human expertise and artificial intelligence, RESCUES aims to provide teachers with a cafeteria-style menu of content modules, categorized in a systematic manner as to topic, instructional modality, student prerequisites and estimated impact on course schedules. Each RESCUES module would include: teacher guides; meaningful alignment with Common Core mathemtics standards as well as applicable NGSS standards; imbedded assessments aligned with Common Core and NGSS performance expectations; student-facing materials including readings, instructions, computer program templates, as well as assessments, both formative and summative; teacher and students reviews of each module; online teacher support; and videoconferencing opportunities with designated experts. RESCUES would also offer guidance as to possible sequences in which modules could be used, depending upon the teacher's syllabus, student preparation and the direction of student interest.\n",
        "\n",
        "Through a machine learning overwatch subsystem and the embedded Common Core- and NGSS-aligned assessments, RESCUES would continually generate feedback as to the impact its use is having on the mathematical competencies, scientific literacy, computational thinking abilities and reasoning skills of participating students.  A machine learning layer will monitor and inform all uses of the system.\n",
        "\n",
        "If successful, RESCUE will have a multiplier effect, enhancing the societal impact of NSF funding programs including PAARE, DR-12, ITEST, STEM+C, and IUSE-CUE, as well as myriad programs funded by NASA as part of their STEM outreach efforts over many years.\n",
        "\n",
        "\n"
      ]
    },
    {
      "cell_type": "markdown",
      "metadata": {
        "id": "Lsu-e3X2TngI"
      },
      "source": [
        "### 2. The Technical Objectives and Challenges. (Up to 500 words)\n",
        "*Describe the R&D or technical work to be done in a Phase I project, including a discussion of how and why the proposed work will help prove that the product or service is technically feasible and/or significantly reduce technical risk. Discuss how, ultimately, this work could contribute to making the new product, service, or process commercially viable and impactful. This section should also convey that the proposed work meets the definition of R&D, rather than straightforward engineering or incremental product development tasks.*"
      ]
    },
    {
      "cell_type": "markdown",
      "metadata": {
        "id": "8WjVoP--0E58"
      },
      "source": [
        "Phase I funding would support research into the development of a RESCUES prototype, one trained on data from a limited number of high-value resources, including: the mature curriculum and teacher training resources of the Hands-On Universe (HOU) project; associated materials developed in cooperation with the American Modeling Teachers Association (AMTA); the Las Cumbres Observatory global network of remotely-controlled telescopes and associated educational materials; educational activities organized by astroEDU; and research-grade image data collected by a network of affordable automated telescopes, specifically the new Unistellar eVscopes. \n",
        "The inclusion of HOU materials in the prototype is supported by evidence those materials have a positive impact upon student test scores and excitement about STEM topics (See, e.g., Bass et al., *Science Education and Civil Engagement, an International Journal*, <u>7</u> (2) 121-131, 2015)\n",
        "\n",
        "If successful, the prototype would evolve into a real working system, one that provides access to a wider range of resources, first within the fields of space science and astronomy, and subsequently to other disciplines including biotechnology, neurobiology and materials science.\n",
        "\n",
        "Efforts to develop a RESCUES prototype will help establish the technical feasibility of the final working product.  Since the prototype will be trained and tested on a highly diverse set of resources, many of the technical challenges inherent in developing the working product will be encountered.  These include: recursive searching for unidentified but useful links to resources found on the web pages of resources known to be useful; automated processing of resource \"hits\" to extract reliably basic information about the resource; design of a teacher-facing interface that provides teachers with the information they need to make informed choices; and design of a central resource for eVscope users, allowing them to share images and to control one another's telescopes.\n"
      ]
    },
    {
      "cell_type": "markdown",
      "metadata": {
        "id": "PqmKk2JlTdT3"
      },
      "source": [
        "### 3. The Market Opportunity. (Up to 250 words)\n",
        "*Describe the customer profile and pain point(s) that will be the near-term commercial focus related to this technical project.*\n"
      ]
    },
    {
      "cell_type": "markdown",
      "metadata": {
        "id": "m5ealzMxJU2K"
      },
      "source": [
        "Many powerful teacher-facing and student-facing resources now exist, resources whose efficacy has been demonstrated along several axes of merit, but which remain underutilized. Given the realities of most teachers' lives, this is not surprising. A plethora of options, currently disconnected and uncontextualized, confronts teachers looking for ways to bring active scientific inquiry into their classrooms.  Teachers simply lack the time to sort through this bag of isolated resources and make informed choices.  They may also worry, with some justification, that if technical or pedagogic issues arise, they and their students will be left in the lurch. Teachers may also be concenred that even successful completion of a particular lesson, downloaded from an arbitraily-selected website, may not actually enhance their students' scientific literacy, ability to think computationally and/or to reason scientifically.\n",
        "\n",
        "The result: too many teachers are discouraged from taking advantage of resources developed and maintained through substatial public and private investment, and too many students encounter science as a body of static information in a textbook or on a website, combined with a series of \"cookbook\" laboratory activities with pre-determined outcomes. Additional investments of similar magnitude in classroom computers are also failing to yield maximal return. Powerful hardware is used merely as means to \"surf\" the internet, process documents, run isolated applications and interact with the school's learning management system. We have yet to unleash at scale the synergistic combination of constructivist pedagogy, modern digital technology and the vast quantities of unexplored scientific data now publically available.  Doing so would empower students not merely to learn about science, but to do science.\n",
        "\n",
        "A tool that substantially helps teachers bring active inquiry into classrooms might well command a substantial subscription fee, though one of the research objectives of Phase I is to determine how low a fee would be compatiable with a viable business model.  A novel idea to be explored in Phase I would be to contractually condition payment of a significant fee on improvement of student scores on embedded assessments."
      ]
    },
    {
      "cell_type": "markdown",
      "metadata": {
        "id": "ImIfY98BTW72"
      },
      "source": [
        "### 4. The Company and Team. (Up to 250 words)\n",
        "*Describe the background and current status of the applicant small business, including key team members who will lead the technical and/or commercial efforts discussed in this Project Pitch.*\n"
      ]
    },
    {
      "cell_type": "markdown",
      "metadata": {
        "id": "XYr9XPUQahCA"
      },
      "source": [
        "The applicant small business, Hands-On Education Technology, LLC (HOET), is incorporating under the laws of the State of California for the purpose of pursuing the research and development goals described here.  The company's website url is www.handsonedtech.com.\n",
        "\n",
        "The Principal Investigator on this proposal will be Dr. Richard Piccioni, managing partner of HOET. Dr. Piccioni recieved his PhD  Biophysics from the Rockefeller University in 1977, and has been a high school science teacher for the last 17 years. Currently he is an adjunct faculty member at the College of Marin, a two-year college with an ethnically and economically diverse student body. This position affords him the opportunity to spend the substantial majority of his time working on this project in close collaboration with project partners, listed below.\n",
        "\n",
        "Dr. Carlton R. Pennypacker received his Ph.D. from Harvard in 1978. He now holds joint appointments at the Physics Dept.,  University of California, Berkeley and the Lawrence Berkeley Laboratory.  His principal research was the studying of supernovae and the building of techniques for their automated discovery. With Rich Muller, he co-founded the Berkeley Supernova Search, which later became the Supernova Cosmology Project. He was awarded the Prix Jules Janssen of the French Astronomical Society in 2010. He shared the 2007 Gruber Prize in Cosmology and the 2015 Breakthrough Prize in Fundamental Physics for the Supernova Cosmology Project's discovery that the expansion of the universe is accelerating. Dr. Pennypacker is the principal investigator for the Hands-On Universe project. \n",
        "\n",
        "Dr. Colleen Megowan-Romanowitz received her PhD from Arizona State University in 2007 under the supervision of Professor David Hestenes and was an assitant professor of science education at ASU until 2011 when she became the first Executive Officer of the American Modeling Teachers Association (AMTA). Now an AMTA Senior Fellow, she conducts research on computational modeling,  teacher leadership, out-of-field science teaching, and cognition in Modeling Instruction.\n",
        "\n",
        "Dan Peluso is a high school science teacher at Mare Island Technology Acadeny in Vallejo, California and a PhD candidate at the University of Southern Queensland (USQ), supported by a USQ International Fees Research Scholarship. He has extensive experience both teaching and doing physics and astronomy and was a data scientist at both the Pittsburgh and Morgantown sites of the National Energy Technology Laboratory (NETL), a United States Department of Energy national laboratory.\n",
        "\n",
        "Bonnie B. Thurber, Northwestern University, Department of Information Technology, Global Hands-On Universe.\n",
        "\n",
        "Franck Marchis, Chief Scientific Officer, UniStellar, Senior Astronomer at the SETI Institute.  Recently, [Unistellar entered into a partnership with SETI](https://unistellaroptics.com/seti-institute-signs-mou-with-unistellar-to-develop-and-enhance-a-citizen-science-network/), but [that partnership is non-exclusive](https://unistellaroptics.zendesk.com/hc/en-us/articles/360002269774-Are-you-considering-partnering-with-other-institution-).\n",
        "\n",
        "Vivian White, Director of Free Choice Leanring, Astronomical Society of the Pacific."
      ]
    },
    {
      "cell_type": "markdown",
      "metadata": {
        "id": "bDJv48B3Ef0T"
      },
      "source": [
        "## A New and Improved SBIR Project Pitch\n",
        "\n",
        "Not quite the version submitted, which was shortened and cleaned of typos."
      ]
    },
    {
      "cell_type": "markdown",
      "metadata": {
        "id": "2vJ47yzPjw3w"
      },
      "source": [
        "### 1. The Technology Innovation. (Up to 500 words)"
      ]
    },
    {
      "cell_type": "markdown",
      "metadata": {
        "id": "SYxHfjtmEged"
      },
      "source": [
        "*Describe the technical innovation that would be the focus of a Phase I project, including a brief discussion of the origins of the innovation as well as explanation as to why it meets the program’s mandate to focus on supporting research and development (R&D) of unproven, high-impact innovations. Research and development supported by the NSF’s program can be:\n",
        "A systematic, intensive study directed toward greater knowledge or understanding of the subject studied;\n",
        "A systematic study directed specifically toward applying new knowledge to meet a recognized need; or\n",
        "A systematic application of knowledge toward the production of useful materials, devices, and systems or methods, including design, development, and improvement of prototypes and new processes to meet specific requirements.*"
      ]
    },
    {
      "cell_type": "markdown",
      "metadata": {
        "id": "pcbPvFe27syo"
      },
      "source": [
        "What is proposed is research and development of a novel type of online professional development course, one specifically designed for science teachers who want to bring exploration and analysis of publicly-available scientific data into their classrooms. Initially, the work would focus on astrophysical data and telescope images, including images obtained by student-controlled robotic telescope networks. These are resources that allow students to make their own astronomical discoveries.  Later the scope of the proposed package would be widened to include other fields of research including molecular biology, ocean science, neurobiology and materials science.\n",
        "\n",
        "This proposal is motivated by the following:\n",
        "\n",
        "1) The chronic shortage of young people interested in, and prepared for, careers in science, mathematics, engineering and technology (STEM).\n",
        "\n",
        "2) Evidence that Global Hands-On Universe activities centered on student exploration and analysis of research-grade astrophysical data (including analysis of images obtained by research-grade telescopes) increase student interest in STEM and improve performance on Common Core-aligned math tests. (See, Bass et al., Science Education and Civil Engagement, an International Journal, 7 (2) 121-131, 2015);\n",
        "\n",
        "3) The burgeoning public availability of research-grade data and images, albeit through search portals designed for use by professionals, as well as the under-utilization of such data by science teachers;\n",
        "\n",
        "4) The maturation of constructivist pedagogies, such as Modeling Instruction that emphasize guided inquiry as a primary mode of instruction in the sciences, as well as endorsement of those approaches by the Next Generation Science Standards (NGSS); and\n",
        "\n",
        "5) The recent availability of affordable, portable, light-amplification telescopes (eVscopes) whose images could potentially be shared among a large number of users. (See, Marchis et al., Unistellar eVscopes: Smart, portable, and easy-to-use telescopes for exploration, interactive learning, and citizen astronomy, Acta Astronautica 166 23-28, 2020).\n",
        "\n",
        "The proposed R&D is intended to take advantage of the commercial opportunities afforded by this confluence of under-utilized resources and unmet needs. Course development will require significant technological innovation to go beyond the current limitations of exisiting course-creation tools such as edX Edge Studio; however if successful such courses have a large potential enrollment base, namely many thousands of high school and two-year college teachers.  Accordingly, funding would allow the applicant small business to engage in R&D with level of technological risk but the promise of of commercial success of substantial societal benefit.\n"
      ]
    },
    {
      "cell_type": "markdown",
      "metadata": {
        "id": "WSmqLBS4Ev5C"
      },
      "source": [
        "### 2. The Technical Objectives and Challenges. (Up to 500 words)"
      ]
    },
    {
      "cell_type": "markdown",
      "metadata": {
        "id": "RgJANOnVj69t"
      },
      "source": [
        "*Describe the R&D or technical work to be done in a Phase I project, including a discussion of how and why the proposed work will help prove that the product or service is technically feasible and/or significantly reduce technical risk. Discuss how, ultimately, this work could contribute to making the new product, service, or process commercially viable and impactful. This section should also convey that the proposed work meets the definition of R&D, rather than straightforward engineering or incremental product development tasks.*"
      ]
    },
    {
      "cell_type": "markdown",
      "metadata": {
        "id": "H8QjuWKeFMa4"
      },
      "source": [
        "It is not clear what obstacles stand in the way of teachers bringing research-grade scientific data into their clasrooms for student exploration and analysis. Accordingly, the R&D work to be done in Phase I will first determine whether and how an designed online professional course, one that provides curated access to those resources, could overcome those obstacles.\n",
        "\n",
        "Phase I work will continue, in the light of what was learned in teacher interviews, with an iterative cycle of protoype online course development, and user feedback in accord with current models of agile product development. Forseeable technical challenges likely to be encountered in designing and prototyping this unique online professional development course include: 1) providing a choice of paths for teachers taking the course, each requiring a different degree of prequisite knowledge and/or different amounts of time; 2) compiling a library of student-facing content modules, some pre-existing but in need of curation, others developed de novo, each a portal to scientific research data, with imbedded assessments that align module content with Common Core and NGSS performance expectations; and 3) online teacher support and videoconferencing opportunities with designated experts. The course would also offer guidance as to possible sequences in which modules could be used, depending upon the teacher's syllabus, student preparation and the direction of student interest. A machine learning layer will monitor and inform all uses of the system. For assessments requiring narrative student responses, natural language processing may play a role in the proposed product.\n",
        "\n",
        "Some modules featured in the online course would connect teachers to current science missions, such as NASA’s Transiting Exoplanet Survey Satellite (TESS), through Unistellar’s citizen science network, providing objects of interest to teachers and students.  These modules, whose use would be facilitated by a carefully-engineered teacher-facing interface, would allow teachers and their students to explore and analyze real mission data.  Potentially, students and their teachers could use these portals to make publishable scientific discoveries.\n",
        "\n",
        "The integration of these features into a single online professional dvelopment course for science teachers would appear to be unprecedented, and likely to encounter significant unanticipated technical challenges. The choice of astrophysics and astronomy as the foci of the prototype product is intened to insure that the widest variety of challeneges will have to be overcome, enhancing the applicability of the product to other fields of science."
      ]
    },
    {
      "cell_type": "markdown",
      "metadata": {
        "id": "X8TLcTz4FHlZ"
      },
      "source": [
        "### 3. The Market Opportunity. (Up to 250 words)"
      ]
    },
    {
      "cell_type": "markdown",
      "metadata": {
        "id": "HMWdt5jxkD3K"
      },
      "source": [
        "*Describe the customer profile and pain point(s) that will be the near-term commercial focus related to this technical project.*\n"
      ]
    },
    {
      "cell_type": "markdown",
      "metadata": {
        "id": "lucQVVIuFNa1"
      },
      "source": [
        "The intended paying customer for proposed online professional development course is a public or private high school or a two-year community college seeking affordable ways to: 1) help their science teachers engage student interest in STEM careers; 2) motivate those students who are less engaged by traditional methods of instruction; and 3) improve student self-efficacy when it comes to STEM subjects. If successful, this novel form of professional development would also enliven teachers themselves. Currently-available science education research suggests that student exploration and analysis of scientific data lends a sense of authenticity and ownership to course assignments and lab activities, and that it additionally engages student interest, leading to acquisition of basic reasoning and math skills. If true, it follows that facilitating teacher access to such resources would improve not just student outcomes, but also teacher morale and retention, a clear benefit to institutional customers.\n",
        "\n",
        "Greater use of publicly-available scientific data would yield societal benefits as well.  These include: greater public appreciation for the importance and value of basic research; greater public understanding of the nature of scientific inquiry and expanding participation in meaningful and productive \"citizen-science.\"\n",
        "\n",
        "While the web abounds with lists of resources related to astronomy education, only a few afford students the opportunity to explore and analyze research-grade scientific data.  These include: the International Astronomical Search Collaboration, project of Global Hands-On Universe, which mediates access to the Las Cumbres Global Telescope network; the online Laboratory for the Study of Exoplanets, produced for NSF by the Harvard-Smithsonian Center for Astrophysics; and two activities developed by the NASA/MSU-Boseman CERES Project. None of the above provide imbedded assessments aligned with Common Core and/or NGSS proficiencies. Additionally, none provide training for teachers on how to incorporate inquiry experiences for their students through constructivist approaches such as Modeling Instruction.\n",
        "\n",
        "Enhancement of these excellent pre-existing portals would, with permission, be provided to teachers within the context of the proposed online professional development course.  These portals can also serve as models of ways the proposed course could provide curated access to an even wider range of astrophysical databases and image repositories."
      ]
    },
    {
      "cell_type": "markdown",
      "metadata": {
        "id": "vFq1QnkRkJNn"
      },
      "source": [
        "### 4. The Company and Team. (Up to 250 words)"
      ]
    },
    {
      "cell_type": "markdown",
      "metadata": {
        "id": "cXZwUchOE8TQ"
      },
      "source": [
        "*Describe the background and current status of the applicant small business, including key team members who will lead the technical and/or commercial efforts discussed in this Project Pitch.*\n"
      ]
    },
    {
      "cell_type": "markdown",
      "metadata": {
        "id": "J-0OzLEzFOPp"
      },
      "source": [
        "The applicant small business, Hands-On Education Technology, LLC (HOET), is incorporated under the laws of the State of California for the purpose of pursuing the research and development goals described here.\n",
        "\n",
        "The Principal Investigator on this proposal will be Richard Piccioni, Ph.D., sole partner of HOET. He is now an adjunct faculty member at the College of Marin, having taught high school science for the preceeding 17 years.\n",
        "\n",
        "Dr. Carlton R. Pennypacker, Ph.D. holds joint appointments at the University of California, Berkeley and the Lawrence Berkeley Laboratory.  He co-founded the Berkeley Supernova Search, which later became the Supernova Cosmology Project. Dr. Pennypacker was the originator and principal investigator of what has become the Global Hands-On Universe project.\n",
        "\n",
        "Dr. Colleen Megowan-Romanowicz received her PhD from Arizona State University in 2007. She is former Executive Director and current Senior Fellow of the American Modeling Teachers Association and has, with Dr. Pennypacker, developed extensive modeling instructional materials for teachers of astronomy, as well as a three-week workshop to train teachers in their use. \n",
        "\n",
        "Dan Peluso is a high school science teacher at Mare Island Technology Academy in Vallejo, California, a former National Energy Technology Laboratory data scientist and a Ph.D. candidate at the University of Southern Queensland (USQ).\n",
        "\n",
        "Bonnie B. Thurber, Northwestern University, Department of Information Technology, Global Hands-On Universe has extensive experience working with teachers in a variety of countires, helping them bring authentic scientific inquiry to their students.\n",
        "\n",
        "Franck Marchis, Senior Astronomer at the SETI Institute in Mountain View, CA, is Chief Scientific Officer of Unistellar, SAS and will assist in the development of curricula that use the eVscope.\n",
        "\n",
        "Vivian White is Director of Free Choice Learning at the Astronomical Society of the Pacific, the pre-emminent purveyor of astronomy education in both formal and informal educational settings. \n"
      ]
    },
    {
      "cell_type": "markdown",
      "metadata": {
        "id": "yZa5614OjlY3"
      },
      "source": [
        "## SBIR Pitch Submitted 18 Oct 2019, revised slightly 20 Oct 2019."
      ]
    },
    {
      "cell_type": "markdown",
      "metadata": {
        "id": "pvxp3z46rlTu"
      },
      "source": [
        "[G-doc pasted piecemeal into the Project Pitch form\n",
        "](https://docs.google.com/document/d/18H0lcTzDMQF4C2KhUopy_q-5uQqO8lUHXL70HaHRYKg/edit)\n",
        "\n",
        "[Link to make revisions until the review process begins](https://nsfgov.secure.force.com/sbir/SBIRExecutiveSummaryThankyou?esid=YWM0MjczYWI0OTUxMWEyZDBkNGFmNWNjNjljZDVjOGI%3D).  But as of 11/11/2019 it was not active, which is good.\n",
        "\n",
        "[HOET G-drive/Grants (includes PDF of submitted pitch)](https://drive.google.com/drive/folders/1MhrBd9NhOIryYe_LoO4nzWv3ecfNm4pw)\n",
        "\n"
      ]
    },
    {
      "cell_type": "markdown",
      "metadata": {
        "id": "X3OZmcuhrwco"
      },
      "source": [
        "# Nascent 2019 NSF/SBIR Proposal \n"
      ]
    },
    {
      "cell_type": "markdown",
      "metadata": {
        "id": "2jkFfkqg51Z9"
      },
      "source": [
        "## Citable Text"
      ]
    },
    {
      "cell_type": "markdown",
      "metadata": {
        "id": "excpMEx0586T"
      },
      "source": [
        "[NSF PAPPG](https://www.nsf.gov/pubs/policydocs/pappg19_1/pappg_2.jsp): One of the strategic objectives in support of NSF’s mission is to foster integration of research and education through the programs, projects, and activities it supports at NSF grantee organizations. These organizations recruit, train, and prepare a diverse science, technology, engineering, and mathematics (STEM) workforce to advance the frontiers of science and participate in the U.S. technology-based economy. NSF's contribution to the national innovation ecosystem is to provide cutting-edge research under the guidance of the Nation’s most creative scientists and engineers. NSF also supports development of a strong STEM workforce by investing in building the knowledge that informs improvements in STEM teaching and learning."
      ]
    },
    {
      "cell_type": "markdown",
      "metadata": {
        "id": "oxCbd_epuMek"
      },
      "source": [
        "[APA:](https://www.apa.org/pi/aids/resources/education/self-efficacy)\n",
        "Self-efficacy refers to an individual's belief in his or her capacity to execute behaviors necessary to produce specific performance attainments (Bandura, 1977, 1986, 1997). Self-efficacy reflects confidence in the ability to exert control over one's own motivation, behavior, and social environment. These cognitive self-evaluations influence all manner of human experience, including the goals for which people strive, the amount of energy expended toward goal achievement, and likelihood of attaining particular levels of behavioral performance. Unlike traditional psychological constructs, self-efficacy beliefs are hypothesized to vary depending on the domain of functioning and circumstances surrounding the occurrence of behavior."
      ]
    },
    {
      "cell_type": "markdown",
      "metadata": {
        "id": "W_OzkUCR33jA"
      },
      "source": [
        "Erik Erikson: \"Children cannot be fooled by empty praise and condescending encouragement. They may have to accept artificial bolstering of their self-esteem in lieu of something better, but what I call their accruing ego identity gains real strength only from wholehearted and consistent recognition of real accomplishment, that is, achievement that has meaning in their culture.\""
      ]
    },
    {
      "cell_type": "markdown",
      "metadata": {
        "id": "DQE6es1cOcHh"
      },
      "source": [
        "Core Principles. The CME Project is built around a few core principles:\n",
        "\n",
        "Habits of mind. For many high school students, the real utility of mathematics lies in a style of work—the habits of mind that allow one to look at the world through a mathematical lens.\n",
        "\n",
        "Textured emphasis. In the CME Project, we are careful to separate convention and vocabulary from matters of mathematical substance. Even our practice problems are designed to have a larger mathematical point.\n",
        "\n",
        "General purpose tools. Fluency in algebraic calculation, proof, and graphing are essential in mathematics, but special-purpose techniques, such as FOIL and the rote application of y = mx + b, are not.\n",
        "\n",
        "Experience before formality. Worked-out examples and careful definitions are important, but students need to grapple with ideas and problems before they are brought to closure.\n",
        "\n",
        "High expectations. The vast majority of students have the capacity to think in ways that are characteristically mathematical.\n",
        "\n",
        "A mathematical community. Our writers, ﬁeld-testers, reviewers, and advisors come from all parts of the mathematics community: teachers, mathematicians, education researchers, technology developers, administrators, and students.\n",
        "\n",
        "The [CME Project](http://cmeproject.edc.org/) is a four-year, NSF-funded, comprehensive high school mathematics program that is problem-based, student-centered, and organized around the familiar themes of Algebra 1, Geometry, Algebra 2, and Precalculus"
      ]
    },
    {
      "cell_type": "markdown",
      "metadata": {
        "id": "wgQFI2hfIlTu"
      },
      "source": [
        "[S. Hsi et al., Designing 2030: Thinking & Doing with Data, notes of Concord Consortium conference 2019 ](https://designing2030.concord.org/report/designing-2030-data.pdf?utm_source=The+Concord+Consortium+List&utm_campaign=a276d1f9dc-October_2019_Newsletter&utm_medium=email&utm_term=0_4ca9f8d47e-a276d1f9dc-321868777)\n",
        "\n",
        "The keystone for these engagements in and out of school resides in public datasets made available\n",
        "by agencies across sectors, including NASA, NOAA, EPA, USGS, U.S. Census, OpenData.gov, and\n",
        "more. These datasets present a clear opportunity for the education community to develop engaging,\n",
        "accessible scaffolds and onboarding activities for teaching and learning with data. Teachers and\n",
        "learners currently have access to tools for accessing and visualizing data. Combined with sequences\n",
        "of instructional activities, gentle on-ramps to learning with data can create meaningful teaching\n",
        "and learning experiences at introductory and advanced levels. Together, these communities and\n",
        "instructional resources offer opportunities for multiple learning pathways to data fluency."
      ]
    },
    {
      "cell_type": "markdown",
      "metadata": {
        "id": "zlywmWQ3J4Kj"
      },
      "source": [
        ""
      ]
    },
    {
      "cell_type": "markdown",
      "metadata": {
        "id": "zRyzRTlChBYe"
      },
      "source": [
        "## SBIR Project Summary\n",
        "\n",
        "one page max"
      ]
    },
    {
      "cell_type": "markdown",
      "metadata": {
        "id": "aVedf0qorfuD"
      },
      "source": [
        "What is proposed is research and development of a novel type of online professional development course, one specifically designed for science teachers who want to bring exploration and analysis of publicly-available scientific data into their classrooms. Initially, the work would focus on astrophysical data and telescope images, including images obtained by student-controlled robotic telescope networks. These are resources that allow students to make their own astronomical discoveries.  Later the scope of the proposed package would be widened to include other fields of research including molecular biology, ocean science, neurobiology and materials science.\n",
        "This proposal is motivated by the following:\n",
        "1) The chronic shortage of young people interested in, and prepared for, careers in science, mathematics, engineering and technology (STEM);\n",
        "2) Evidence that Global Hands-On Universe activities centered on student exploration and analysis of research-grade astrophysical data (including analysis of images obtained by research-grade telescopes) increase student interest in STEM and improve performance on Common Core-aligned math tests. (See, Bass et al., Science Education and Civil Engagement, an International Journal, 7 (2) 121-131, 2015);\n",
        "3) The burgeoning public availability of research-grade data and images, albeit through search portals designed for use by professionals, as well as the under-utilization of such data by science teachers;\n",
        "4) The maturation of constructivist pedagogies, such as Modeling Instruction that emphasize guided inquiry as a primary mode of instruction in the sciences, as well as endorsement of those approaches by the Next Generation Science Standards (NGSS); and\n",
        "5) The recent availability of affordable, portable, light-amplification telescopes (eVscopes) whose images could potentially be shared among a large number of users. (See, Marchis et al., Unistellar eVscope: Smart, portable, and easy-to-use telescopes for exploration, interactive learning, and citizen astronomy, Acta Astronautica 166 23-28, 2020).\n",
        "The proposed R&D is intended to take advantage of the commercial opportunities afforded by this confluence of under-utilized resources and unmet needs. Course development will require significant technological innovation to overcome the current limitations of existing course-creation tools such as edX Edge Studio.  A well-designed and effectively-implemented course would have a large potential enrollment base, namely, many thousands of high school and two-year college teachers.  Accordingly, funding would allow the applicant small business to engage in R&D with significant level of technological risk but the promise of commercial success and substantial societal benefit.\n"
      ]
    },
    {
      "cell_type": "markdown",
      "metadata": {
        "id": "O8GvecSRhDwW"
      },
      "source": [
        "## SBIR Project Description"
      ]
    },
    {
      "cell_type": "markdown",
      "metadata": {
        "id": "qSDLBGCArlws"
      },
      "source": [
        "It is not clear what obstacles stand in the way of teachers bringing research-grade scientific data into their classrooms. Accordingly, the R&D work to be done in Phase I will first determine, through teacher interviews, whether and how an appropriately-designed online professional course, one that provides curated access to those resources, could overcome those obstacles.\n",
        "Phase I work will continue, in the light of what was learned in teacher interviews, with an iterative cycle of prototype online course development and user feedback, in accord with current models of agile product development. Foreseeable technical challenges likely to be encountered in designing and prototyping this unique online professional development course include: 1) providing a choice of paths for teachers taking the course, each requiring a different degree of prerequisite knowledge and/or different amounts of time; 2) compiling a library of student-facing content modules, some pre-existing but in need of curation, others developed de novo, each a portal to scientific research data with imbedded assessments that align module content with Common Core and NGSS performance expectations; and 3) online teacher support and videoconferencing opportunities with designated experts. A machine learning layer will monitor and inform all uses of course materials. For assessments requiring narrative responses, natural language processing may play a role.\n",
        "Some modules featured in the online course would connect teachers to current science missions, such as NASA’s Transiting Exoplanet Survey Satellite (TESS), through Unistellar’s anticipated citizen science network, providing objects of interest to teachers and students.  These modules, whose use would be facilitated by a carefully-engineered teacher-facing interface, would allow teachers and their students to explore and analyze real mission data.  Potentially, students and their teachers could use these portals to make publishable scientific discoveries.\n",
        "\n",
        "The integration of these features into an online professional development course for science teachers would appear to be unprecedented, and is likely to encounter significant unanticipated technical challenges. The choice of astrophysics and astronomy as the foci of the prototype product is intended to insure that the widest variety of challenges will have to be overcome, enhancing the applicability of the product to other areas of science education.\n",
        "\n",
        "The customer profile for proposed online professional development course is a public or private high school or a two-year community college seeking affordable ways to help their teachers engage student interest in STEM careers. Too often, students attending such institutions are alienated by traditional methods of instruction. Currently-available science education research suggests that student exploration and analysis of scientific data lends a sense of authenticity and ownership to course assignments and lab activities. It follows that facilitating teacher access to such resources would improve not just student outcomes, but also teacher morale and retention, a clear benefit to institutional customers.\n",
        "While the web abounds with lists of resources related to astronomy education, only a few afford visitors the opportunity to explore and analyze research-grade scientific data.  These include: the International Astronomical Search Collaboration, a project of Global Hands-On Universe, which mediates access to the Las Cumbres Global Telescope network; the online Laboratory for the Study of Exoplanets, produced for NSF by the Harvard-Smithsonian Center for Astrophysics; and two activities developed by the NASA/MSU-Bozeman CERES Project. None of the above provide imbedded assessments aligned with Common Core and/or NGSS proficiencies or incorporate constructivist approaches to student learning such as Modeling Instruction.\n",
        "Greater use of publicly-available scientific data would yield societal benefits as well, including: greater public understanding of the nature of scientific inquiry and wider participation in meaningful and productive citizen-science.\n"
      ]
    },
    {
      "cell_type": "markdown",
      "metadata": {
        "id": "TohKEhBIhKdF"
      },
      "source": [
        "## References Cited"
      ]
    },
    {
      "cell_type": "markdown",
      "metadata": {
        "id": "xyUjM_0QOOcm"
      },
      "source": [
        "Ballard, H., Harris, E., & Dixon, C. (2018). Science Identity and Agency in Community and Citizen Science:\n",
        "Evidence & Potential. Report to the National Academies’ Committee on Designing Citizen Science to Support\n",
        "Science Learning. http://hub.mspnet.org/index.cfm/33673\n",
        "\n",
        "\n"
      ]
    },
    {
      "cell_type": "markdown",
      "metadata": {
        "id": "UVYZJEi9sjb0"
      },
      "source": [
        "[Bass et al., Science Education and Civil Engagement, an International Journal, 7 (2) 121-131, 2015](https://new.seceij.net/articletype/research/persistent-and-encouraging-achievement-gains-on-common-core-aligned-items/) "
      ]
    },
    {
      "cell_type": "markdown",
      "metadata": {
        "id": "ShDV2hDmRO5M"
      },
      "source": [
        "[Farahdi et al., Astronomers’ and physicists’ attitudes toward education & public outreach: a programmatic study of the dark energy survey, J. STEM Outreach (2019)](https://arxiv.org/pdf/1805.04034.pdf)"
      ]
    },
    {
      "cell_type": "markdown",
      "metadata": {
        "id": "mjxJer04lplL"
      },
      "source": [
        "Finzer, W., Busey, A., & Kochevar, R. (2018). Data-driven inquiry in the PBL classroom. The Science Teacher,\n",
        "86(1), 28-34.\n"
      ]
    },
    {
      "cell_type": "markdown",
      "metadata": {
        "id": "jZJVXHwURTUd"
      },
      "source": [
        "[Khalil et al., Big data in astronomy: from evolution to revolution, International Journal of Advanced Astronomy, 7 (1) (2019) 11-14]"
      ]
    },
    {
      "cell_type": "markdown",
      "metadata": {
        "id": "dsbbi3bMTKsJ"
      },
      "source": [
        "[Khan et al. A Machine Learning Technique to Classify LSST Observed Astronomical Objects Based on Photometric Data, 6th Swiss Conference on Data Science (SDS) IEEE (2019)](https://ieeexplore.ieee.org/document/8789874)"
      ]
    },
    {
      "cell_type": "markdown",
      "metadata": {
        "id": "daWLTukOlwpm"
      },
      "source": [
        "Lee, V., & Wilkerson, M. (2018). Data use by middle and secondary students in the digital age: A status report and\n",
        "future prospects. Instructional Technology and Learning Sciences Faculty Publications. Retrieved May 5, 2019,\n",
        "from https://digitalcommons.usu.edu/itls_facpub/634\n"
      ]
    },
    {
      "cell_type": "markdown",
      "metadata": {
        "id": "yD_sKdDLlU9u"
      },
      "source": [
        "Lupi, G., & Posavec, S. (2018). Observe, collect, draw!: A visual journal. New York, NY: Princeton Architectural\n",
        "Press.\n",
        "Ocean Tracks – A Journey Through the Ocean: A Modern Approach to Science Education (2019). Scientia.\n",
        "Retrieved July 10, 2019, from https://www.scientia.global/ocean-tracks-a-journey-through-the-ocean-amodern-approach-to-science-education/\n",
        "\n",
        "\n",
        "\n",
        "\n"
      ]
    },
    {
      "cell_type": "markdown",
      "metadata": {
        "id": "cWGzs22olb7O"
      },
      "source": [
        "Quinn, H., & Bell, P. (2013). How designing, making, and playing relate to the learning goals of K-12 science\n",
        "education. In Design, make, play: Growing the next generation of STEM innovators (pp. 17–33). London:\n",
        "Routledge."
      ]
    },
    {
      "cell_type": "markdown",
      "metadata": {
        "id": "x1684Tr59WcV"
      },
      "source": [
        "[Schanche et al., Machine Learning Approaches to Exoplanet Transit Detection ... MNRAS 000, 1–15 (2018)](https://arxiv.org/pdf/1811.07754.pdf)"
      ]
    },
    {
      "cell_type": "markdown",
      "metadata": {
        "id": "JE_HTPCylXtb"
      },
      "source": [
        "Schwartz, M. S., Sadler, P. M., Sonnert, G. and Tai, R. H. (2009), Depth versus breadth: How content coverage in high school science courses relates to later success in college science coursework. Sci. Ed., 93: 798-826. doi:10.1002/sce.20328\n"
      ]
    },
    {
      "cell_type": "markdown",
      "metadata": {
        "id": "lIjly5ZlP_cw"
      },
      "source": [
        "[Shalue, and Vanderburg, Identifying Exoplanets with Deep Learning: A Five Planet Resonant Chain around Kepler-80 and an Eighth Planet around Kepler-90](https://arxiv.org/abs/1712.05044)"
      ]
    },
    {
      "cell_type": "markdown",
      "metadata": {
        "id": "RWE9MxSxllCm"
      },
      "source": [
        "[Wolf, Roland C. et al. “New Science, New Media: An Assessment of the Online Education and Public Outreach Initiatives of The Dark Energy Survey.” (2018).](https://www.semanticscholar.org/paper/New-Science%2C-New-Media%3A-An-Assessment-of-the-Online-Wolf-Romer/8febd3a9645a08ed66431c1e6d7a0a7fa389eece)"
      ]
    },
    {
      "cell_type": "markdown",
      "metadata": {
        "id": "WPcpsVgFJTCE"
      },
      "source": [
        "[Yu et al., Identifying Exoplanets with Deep Learning III: Automated Triage and Vetting of TESS Candidates (2019), arXiv:1904.02726](https://arxiv.org/abs/1904.02726) . See also: [gorgeous \"triage\"](https://github.com/yuliang419/AstroNet-Triage) and [\"vetting\" GitHub sites](https://github.com/yuliang419/Astronet-Vetting)"
      ]
    },
    {
      "cell_type": "markdown",
      "metadata": {
        "id": "dZPPHcb7hOM4"
      },
      "source": [
        "## SBIR Biographical Sketches"
      ]
    },
    {
      "cell_type": "markdown",
      "metadata": {
        "id": "ILDrUZHKiVVB"
      },
      "source": [
        "## Data Analysis Platforms"
      ]
    },
    {
      "cell_type": "markdown",
      "metadata": {
        "id": "FhnnLVO6KjbK"
      },
      "source": [
        "refby Concord Consortium conference:\n",
        "\n",
        "[Common Online Data Analysis\n",
        "Platform (CODAP)](https://codap.concord.org/)\n",
        "\n",
        "[Fieldscope](http://www.fieldscope.org/)\n",
        "\n",
        "[Knowledge discovery from data (IBM KDD)](https://researcher.watson.ibm.com/researcher/view_group.php?id=144)\n",
        "\n",
        "\n",
        "\n",
        "\n"
      ]
    },
    {
      "cell_type": "markdown",
      "metadata": {
        "id": "e4jVdIH6ka0q"
      },
      "source": [
        "[HOET Dataflow Diagram](https://www.lucidchart.com/documents/view/bd03068b-fe21-440f-8b2b-74bea35adaa4/0_0)"
      ]
    },
    {
      "cell_type": "markdown",
      "metadata": {
        "id": "VVq487lthTio"
      },
      "source": [
        "## SBIR Budget and SubAward Budgets"
      ]
    },
    {
      "cell_type": "markdown",
      "metadata": {
        "id": "iqdtC4vshfXq"
      },
      "source": [
        "## SBIR Collaborations and Other Affiliations"
      ]
    },
    {
      "cell_type": "markdown",
      "metadata": {
        "id": "jFUZFC-wsOUr"
      },
      "source": [
        "The applicant small business, Hands-On Education Technology, LLC (HOET, LLC), is in the process of incorporation under the laws of the State of California to pursue the research and development goals described in this Project Pitch.\n",
        "\n",
        "The Principal Investigator on this proposal will be Richard Piccioni, Ph.D., sole partner of HOET, LLC. He received his doctoral degree from the Rockefeller University and has spent 23 years teaching science, 18 of them in public and private high schools.\n",
        "\n",
        "Dr. Carlton R. Pennypacker, Ph.D. holds joint appointments at the University of California, Berkeley and the Lawrence Berkeley Laboratory.  He co-founded the Berkeley Supernova Search and was the originator and principal investigator of the Global Hands-On Universe project.\n",
        "\n",
        "Dr. Colleen Megowan-Romanowicz received her PhD from Arizona State University in 2007. She is a Senior Fellow of the American Modeling Teachers Association and has developed, with Dr. Pennypacker, extensive modeling instructional materials and a workshop for teachers of astronomy.\n",
        "\n",
        "Dan Peluso is a high school science teacher at Mare Island Technology Academy in Vallejo, California, a former National Energy Technology Laboratory data scientist and a Ph.D. candidate at the University of Southern Queensland.\n",
        "\n",
        "Bonnie B. Thurber, Northwestern University, Department of Information Technology, Global Hands-On Universe has extensive experience working with teachers in a variety of countries, helping them bring authentic scientific inquiry to their students.\n",
        "\n",
        "Franck Marchis, Senior Astronomer at the SETI Institute in Mountain View, CA, is Chief Scientific Officer of Unistellar, SAS and will assist in the development of curricula that use images obtained by Unistellar’s innovative eVscope.\n",
        "\n",
        "Vivian White is Director of Free Choice Learning at the Astronomical Society of the Pacific, the preeminent purveyor of astronomy education in both formal and informal educational settings.\n"
      ]
    }
  ]
}